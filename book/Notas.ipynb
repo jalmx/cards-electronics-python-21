{
 "cells": [
  {
   "cell_type": "markdown",
   "id": "worst-excitement",
   "metadata": {},
   "source": [
    "# Notas"
   ]
  },
  {
   "cell_type": "markdown",
   "id": "collected-pocket",
   "metadata": {},
   "source": [
    "- [ ] https://www.tutorialsteacher.com/python/python-string\n",
    "\n",
    "- [ ] https://j2logo.com/python/tutorial/tipos-de-datos-basicos-de-python/\n",
    "\n",
    "- [ ] Mas detalles de strings, secuencias de escape\n",
    "\n",
    "- [ ] Funcion type() para conocer el tipo del dato\n",
    "\n",
    "- [ ] Funcion help()"
   ]
  }
 ],
 "metadata": {
  "kernelspec": {
   "display_name": "Python 3",
   "language": "python",
   "name": "python3"
  },
  "language_info": {
   "codemirror_mode": {
    "name": "ipython",
    "version": 3
   },
   "file_extension": ".py",
   "mimetype": "text/x-python",
   "name": "python",
   "nbconvert_exporter": "python",
   "pygments_lexer": "ipython3",
   "version": "3.7.3"
  }
 },
 "nbformat": 4,
 "nbformat_minor": 5
}
