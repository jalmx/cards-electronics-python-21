{
 "cells": [
  {
   "cell_type": "markdown",
   "id": "special-performance",
   "metadata": {},
   "source": [
    "![banner](../logo/banner.png)"
   ]
  },
  {
   "cell_type": "markdown",
   "id": "wicked-hampshire",
   "metadata": {},
   "source": [
    "# 3.5 Sensores Digitales\n",
    "\n",
    "La simulación de sensores digitales básicos es muy sencillo aplicando la configuración pull-up o pull-down. Dado que la señal de un alto o bajo representa un estado u otro."
   ]
  },
  {
   "cell_type": "markdown",
   "id": "featured-texture",
   "metadata": {},
   "source": [
    "## 3.5.1 Sensor PIR HC-SR501 (Sensor de presencia - Sensor Infrarrojo pasivo)\n",
    "\n",
    "Este sensor nos manda una señal alta de 3.3V cuando existe presencia o recibe radiación infrarroja. Se puede alimentar entre 5V a 12V. [Datasheet](https://www.allelectronics.com/mas_assets/media/allelectronics2018/spec/PIR-7.pdf)\n",
    "\n",
    "![sensor PIR](imgs/pir_down.jpeg)"
   ]
  },
  {
   "cell_type": "markdown",
   "id": "split-dance",
   "metadata": {},
   "source": [
    "### 3.5.1.1 Aplicando el Sensor PIR\n",
    "\n",
    "**Ejemplo 1:**\n",
    "\n",
    "Tenemos un sensor PIR, que cuando exista presencia mande a activiar un parpadeo de LEDs de forma rápida (medio segundo), mientras no exista presencia los LEDs deben parpadear de manera lenta (2seg)\n",
    "\n",
    "- Circuito \n",
    "\n",
    "![circuito](imgs/circuito_pir.png)\n",
    "\n",
    "- Simulación\n",
    "\n",
    "![simulacion](imgs/circuito_pir_simulacion.png)"
   ]
  },
  {
   "cell_type": "markdown",
   "id": "stylish-slovenia",
   "metadata": {},
   "source": [
    "**Ejemplo 2:**\n",
    "\n",
    "Ahora tenemos un sesnsor de presencia junto a un switch en una habitación. Lo que queremos es que si existe presencia y el switch se presiona se encienda la luz del cuarto, pero si la persona deja la habitación pero no apago la luz se debe apagar el foco. Al volver a entrar se debe presionar el switch y la luz volvera a enceder porque existe presencia.\n",
    "\n",
    "![pir 2](imgs/pir2_simul.png)"
   ]
  },
  {
   "cell_type": "markdown",
   "id": "understanding-tampa",
   "metadata": {},
   "source": [
    "## 3.5.2 Sensor de Flama\n",
    "\n",
    "El sensor de flama esta constituido por un fototransistor acoplado a comparador de voltaje.\n",
    "\n",
    "Da una señal de 5V a su salida, indicando que esta recibiendo la radiación del fuego.\n",
    "\n",
    "![flama](imgs/flame-sensor.jpg)\n",
    "\n",
    "Aplicaciones:\n",
    "\n",
    "- Hydrogen stations\n",
    "- Industrial heating\n",
    "- Fire detection\n",
    "- Fire alarm\n",
    "- Fire fighting robot\n",
    "- Drying systems\n",
    "- Industrial gas turbines\n",
    "- Domestic heating systems\n",
    "- Gas-powered cooking devices\n",
    "\n",
    "El circuito del sensor de flama\n",
    "\n",
    "![circuito sensor de flama](imgs/sensor_flama_circuit.png)"
   ]
  },
  {
   "cell_type": "markdown",
   "id": "external-scotland",
   "metadata": {},
   "source": [
    "### 3.5.2.1 Aplicando el Sensor de flama\n",
    "\n",
    "**Ejemplo 1:**\n",
    "\n",
    "Tenemos un sensor de flama que cuando detecte fuego este debe mandar una señal auditiva.\n",
    "\n",
    "![flame circuit](imgs/flame_circuit.png)\n",
    "\n",
    "![flama simu](imgs/flama1_simul.png)"
   ]
  },
  {
   "cell_type": "markdown",
   "id": "united-celtic",
   "metadata": {},
   "source": [
    "**Ejemplo 2:**\n",
    "\n",
    "Tenemos un sensor PIR, un sensor de flama, estos sensores están en la cocina. Si el sensor de flama dectecta fuego y no existe presencia, este sensor se coloca en dirección de las hornillas; debe mandar a cerrar una valvula solenoide (representada con un LED apagado) colocada en el tanque de gas y activara un extractor de aire (representado por un motor DC ). Pero si existe presencia y existe flama o no, la solenoide debe esta activa y el extractor apagado.\n",
    "\n",
    "![flama_2](imgs/flama2_simu.png)"
   ]
  },
  {
   "cell_type": "markdown",
   "id": "excessive-titanium",
   "metadata": {},
   "source": [
    "## 3.5.3 Sensor Magnético (Switch magnético)\n",
    "\n",
    "Este tipo de sensor reacciona a campos magnéticos, al colocar cerca hara que los contactos del switch cierre, haciendo que cierre el circuito.\n",
    "\n",
    "![sensor](imgs/switch_magnetico.jpg)\n",
    "\n",
    "Otro tipo de switch, a este se le tiene que complementar con electronica, es el siguiente:\n",
    "\n",
    "![](imgs/Sensor-Magnetico-Switch-MC-38.png)"
   ]
  },
  {
   "cell_type": "markdown",
   "id": "effective-creature",
   "metadata": {},
   "source": [
    "### 3.5.3.1 Aplicando el Sensor de magnético\n",
    "\n",
    "**Ejemplo 1:**\n",
    "\n",
    "Tenemos un sensor de magnético a una ventana. Cuando se abra la ventana mande un correo con el mensaje de que la ventana ha sido abierta.\n",
    "\n",
    "\n",
    "https://www.askpython.com/python/examples/sending-emails-using-python\n"
   ]
  },
  {
   "cell_type": "markdown",
   "id": "emotional-utilization",
   "metadata": {},
   "source": []
  },
  {
   "cell_type": "markdown",
   "id": "australian-animation",
   "metadata": {},
   "source": [
    "## 3.5.4 Sensor de Efecto Hall (Sensor de corriente)\n",
    "\n",
    "Este sensor es capaz de captar el flujo de la corriente electrica, es decir, capta el campo generado electromagnetico que genera la corriente al pasar por un conductor.\n",
    "\n",
    "Es decir, si detacta corriente sobre un conductor o se le acerca un imán este mandará la señal alta (1 lógico)\n",
    "\n",
    "![hall](imgs/hall_1.jpeg)"
   ]
  },
  {
   "cell_type": "markdown",
   "id": "announced-science",
   "metadata": {},
   "source": []
  },
  {
   "cell_type": "markdown",
   "id": "classical-section",
   "metadata": {},
   "source": [
    "## 3.5.5 Sensor de Luz\n",
    "\n",
    "Este sensor "
   ]
  },
  {
   "cell_type": "markdown",
   "id": "connected-hawaiian",
   "metadata": {},
   "source": []
  },
  {
   "cell_type": "markdown",
   "id": "aggregate-pledge",
   "metadata": {},
   "source": [
    "## 3.5.6 Sensor Infrarrojo (Como evasor de obtaculos o de proximidad)\n",
    "\n",
    "Este sensor tiene muchas aplicaciones y esto depende de la forma que se coloque y la interpretación que queramos o necesitemos. Todos los que se muestran funcionan igual, lo que cambia es la posición del emisor y receptor.\n",
    "\n",
    "![infrarrojo1](imgs/proximidad.jpg)\n",
    "\n",
    "![infrarrojo2](imgs/sensor-infrarrojo-.webp)\n",
    "\n",
    "![infrarrojo3](imgs/infrarojo2.jpeg)"
   ]
  },
  {
   "cell_type": "markdown",
   "id": "sufficient-florida",
   "metadata": {},
   "source": []
  },
  {
   "cell_type": "markdown",
   "id": "surface-oxford",
   "metadata": {},
   "source": [
    "---\n",
    "\n",
    "Realizado por Docente: [Alejandro Leyva](https://www.alejandro-leyva.com/)\n",
    "\n",
    "[Mecatrónica 85](https://mecatronica85.com/)\n",
    "\n",
    "[fb/mecatronica85](https://www.facebook.com/mecatronica85)"
   ]
  }
 ],
 "metadata": {
  "kernelspec": {
   "display_name": "Python 3",
   "language": "python",
   "name": "python3"
  },
  "language_info": {
   "codemirror_mode": {
    "name": "ipython",
    "version": 3
   },
   "file_extension": ".py",
   "mimetype": "text/x-python",
   "name": "python",
   "nbconvert_exporter": "python",
   "pygments_lexer": "ipython3",
   "version": "3.7.3"
  }
 },
 "nbformat": 4,
 "nbformat_minor": 5
}
