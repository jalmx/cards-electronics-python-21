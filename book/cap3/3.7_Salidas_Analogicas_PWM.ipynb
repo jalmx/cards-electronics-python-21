{
 "cells": [
  {
   "cell_type": "markdown",
   "id": "special-performance",
   "metadata": {},
   "source": [
    "![banner](../logo/banner.png)"
   ]
  },
  {
   "cell_type": "markdown",
   "id": "wicked-hampshire",
   "metadata": {},
   "source": [
    "## 3.7 Salidas analogicas (PWM)\n",
    "\n",
    "Los pines PWM son utilizados como un reemplazo a un DAC, es decir, se toma como una salida analogica. Los pines que se pueden utilizar como salida analogica (PWM) son las que tienen el simbolo `~`, en la placa.\n",
    "\n",
    "\n",
    "![board_pwm](imgs/board_pwm.png)\n",
    "\n",
    "Los cuales son los pines:\n",
    "\n",
    "Pines|\n",
    ":-:|\n",
    "3|\n",
    "5|\n",
    "6|\n",
    "9|\n",
    "10|\n",
    "11|\n",
    "\n",
    "Esto significa que podemos tener 6 salidas analogicas para poder controlar cualquier elemento que soporte este control."
   ]
  },
  {
   "cell_type": "markdown",
   "id": "featured-texture",
   "metadata": {},
   "source": [
    "## 3.7.1 Configuracion de salidas PWM\n",
    "\n",
    "Vamos a realizar la configuracion basica del PWM\n",
    "\n",
    "```python\n",
    "from pyfirmata import Arduino, util\n",
    "from time import sleep\n",
    " \n",
    "PORT = 'COM#'\n",
    "board = Arduino(PORT)\n",
    "\n",
    "# Configuramos el pin que sera utilizado como PWM\n",
    "pin_analog = board.get_pin('d:6:p')\n",
    "\n",
    "# Mando el valor que necesito al pin 6 con un ciclo de trabajo del 60%\n",
    "pin_analog.write(0.5)\n",
    "\n",
    "```"
   ]
  },
  {
   "cell_type": "markdown",
   "id": "99c42f6f",
   "metadata": {},
   "source": [
    "**Ejemplo 1: Vamos a controlar la intensidad de un LED con una salida PWM**\n",
    "\n",
    "![pwm basico](imgs/pwm_1.png)\n",
    "\n",
    "```python\n",
    "from pyfirmata import Arduino, util\n",
    "from time import sleep\n",
    "\n",
    "PORT = 'COM#'\n",
    "board = Arduino(PORT)\n",
    "\n",
    "# Configuramos el pin que sera utilizado como PWM\n",
    "pin_analog = board.get_pin('d:3:p')\n",
    "\n",
    "while True:\n",
    "\n",
    "    for i in range(0, 101,3):\n",
    "        pin_analog.write(i/100)\n",
    "        sleep(0.2)\n",
    "```"
   ]
  },
  {
   "cell_type": "markdown",
   "id": "understanding-tampa",
   "metadata": {},
   "source": [
    "---\n",
    "**Ejemplo 2: Vamos a controlar el intensidad de un LED con un 2 botones, uno que incremente y con otro que decremente la intesidad**\n",
    "\n",
    "![pwm btn](imgs/pwm_btn.png)"
   ]
  },
  {
   "cell_type": "markdown",
   "id": "external-scotland",
   "metadata": {},
   "source": [
    "---\n",
    "**Ejemplo 3: Vamos a controlar el intensidad de un LED con potenciometro la variar su intensidad.**\n",
    "\n",
    "![](imgs/pwm_adc_1.png)"
   ]
  },
  {
   "cell_type": "markdown",
   "id": "excessive-titanium",
   "metadata": {},
   "source": [
    "## 3.7.2 Servomotor\n",
    "\n",
    "El servomotor se mueve con base a una señal PWM, pero la libreria nos ahorra el trabajo para generar el desplazamiento.\n",
    "\n",
    "El servomotor que utilizaremos el SG-90, es un servomotor basico.\n",
    "\n",
    "![servo sg90](imgs/sg90.jpg)\n",
    "\n",
    "Este motor necesita la siguiente señal para poder generar su desplazamiento:\n",
    "\n",
    "![signal servo](imgs/pwm_servo_data.png)\n"
   ]
  },
  {
   "cell_type": "markdown",
   "id": "0abab3d4",
   "metadata": {},
   "source": [
    "### 3.7.2.1 Configurando Servo\n",
    "\n",
    "Los pines que se pueden usar para el control de servo son los que le pertenecen al PWM.\n",
    "\n",
    "Tenemos dos formas de controlar el Servo, una es haciendolo de manera manual y la otra usando la libreria directamente.\n",
    "\n",
    "**Forma 1: manual**\n",
    "\n",
    "```python\n",
    "from pyfirmata import Arduino, util\n",
    "from time import sleep\n",
    "\n",
    "PORT = 'COM#'\n",
    "board = Arduino(PORT)\n",
    "\n",
    "# Configuramos el pin que sera utilizado como PWM\n",
    "servo = board.get_pin('d:3:p')\n",
    "\n",
    "while True:\n",
    "\n",
    "    for i in range(0.002, 0.210,0.002):\n",
    "        servo.write(i)\n",
    "        \n",
    "```\n",
    "**Forma 2. Con la libreria**\n",
    "\n",
    "```python\n",
    "```"
   ]
  },
  {
   "cell_type": "markdown",
   "id": "e6b730ee",
   "metadata": {},
   "source": []
  },
  {
   "cell_type": "markdown",
   "id": "09a3b7c4",
   "metadata": {},
   "source": []
  },
  {
   "cell_type": "markdown",
   "id": "ffcc99fb",
   "metadata": {},
   "source": []
  },
  {
   "cell_type": "markdown",
   "id": "6c56e004",
   "metadata": {},
   "source": []
  },
  {
   "cell_type": "markdown",
   "id": "surface-oxford",
   "metadata": {},
   "source": [
    "Realizado por Docente: [Alejandro Leyva](https://www.alejandro-leyva.com/)\n",
    "\n",
    "[Mecatrónica 85](https://mecatronica85.com/)\n",
    "\n",
    "[fb/mecatronica85](https://www.facebook.com/mecatronica85)"
   ]
  }
 ],
 "metadata": {
  "kernelspec": {
   "display_name": "Python 3",
   "language": "python",
   "name": "python3"
  },
  "language_info": {
   "codemirror_mode": {
    "name": "ipython",
    "version": 3
   },
   "file_extension": ".py",
   "mimetype": "text/x-python",
   "name": "python",
   "nbconvert_exporter": "python",
   "pygments_lexer": "ipython3",
   "version": "3.7.3"
  }
 },
 "nbformat": 4,
 "nbformat_minor": 5
}
