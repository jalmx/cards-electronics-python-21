{
 "cells": [
  {
   "cell_type": "markdown",
   "id": "oriental-newsletter",
   "metadata": {},
   "source": [
    "![banner](../logo/banner.png)"
   ]
  },
  {
   "cell_type": "markdown",
   "id": "hundred-atlanta",
   "metadata": {},
   "source": [
    "# Estructura de un diagrama de flujo\n",
    "\n",
    "Se describe a continuación el proceso de la creacion de un diagrama de flujo"
   ]
  },
  {
   "cell_type": "markdown",
   "id": "persistent-heavy",
   "metadata": {},
   "source": [
    "Posteriormente se coloca el simbolo que necesites, dependiendo de lo que que deba realizar el algoritmo, normalmente se coloca un proceso, una impresion, adquisicion de datos o rara vez una decision.\n",
    "\n",
    "![continua](continuacion.png)"
   ]
  },
  {
   "cell_type": "markdown",
   "id": "meaning-ladder",
   "metadata": {},
   "source": [
    "Despues de haber realizado y resolver el problema solicitado, se debe colocar el simbolo de \"FIN\", con ello indicamos que el algoritmo termina, *si lo que debe resolver es infinito; es decir, nunca termina no llevara este simbolo*\n",
    "\n",
    "![fin](fin.png)"
   ]
  },
  {
   "cell_type": "markdown",
   "id": "seasonal-sharing",
   "metadata": {},
   "source": [
    "## Resumen\n",
    "\n",
    "- Todo diagrama de flujo comienza con su simbolo de **INICIO**\n",
    "- Despues se realizan todas las operaciones necesarias\n",
    "- Al final de todo diagrama lleva su **FIN**, *excepto cuando el algoritmo es infinito*"
   ]
  },
  {
   "cell_type": "markdown",
   "id": "different-bullet",
   "metadata": {},
   "source": [
    "Realizado por Docente: [Alejandro Leyva](https://www.alejandro-leyva.com/)\n",
    "\n",
    "[Mecatrónica 85](https://mecatronica85.com/)\n",
    "\n",
    "[fb/mecatronica85](https://www.facebook.com/mecatronica85)"
   ]
  }
 ],
 "metadata": {
  "kernelspec": {
   "display_name": "Python 3",
   "language": "python",
   "name": "python3"
  },
  "language_info": {
   "codemirror_mode": {
    "name": "ipython",
    "version": 3
   },
   "file_extension": ".py",
   "mimetype": "text/x-python",
   "name": "python",
   "nbconvert_exporter": "python",
   "pygments_lexer": "ipython3",
   "version": "3.7.3"
  }
 },
 "nbformat": 4,
 "nbformat_minor": 5
}
