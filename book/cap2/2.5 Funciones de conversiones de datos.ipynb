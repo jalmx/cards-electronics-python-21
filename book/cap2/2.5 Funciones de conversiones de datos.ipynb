{
 "cells": [
  {
   "cell_type": "markdown",
   "id": "special-performance",
   "metadata": {},
   "source": [
    "![banner](../logo/banner.png)"
   ]
  },
  {
   "cell_type": "markdown",
   "id": "wicked-hampshire",
   "metadata": {},
   "source": [
    "# 2.5 Funciones de conversiones de datos\n",
    "\n",
    "## 2.5.1 Funcion `input()`\n",
    "\n",
    "La función input sirve para leer datos desde teclado en la terminal.\n",
    "\n",
    "La sintaxis es:\n",
    "\n",
    "```python\n",
    "input(prompt)\n",
    "```\n",
    "\n",
    "Parametros:\n",
    "\n",
    "- `prompt: Es un string que se puede colocar para que aparezca antes del ingreso de datos`\n",
    "- `return: Regresa el texto que ingresen desde terminal : (str)`"
   ]
  },
  {
   "cell_type": "markdown",
   "id": "featured-texture",
   "metadata": {},
   "source": [
    "**Ejemplo:**\n",
    "\n",
    "Cuando queremos recibir datos del usuario debemos guardarla en una variable para posteriormente utilizarla. Recordemos que nos regresara esa información en tipo `str`.\n",
    "\n",
    "```python\n",
    "datos = input()\n",
    "```\n"
   ]
  },
  {
   "cell_type": "code",
   "execution_count": 3,
   "id": "opposite-evanescence",
   "metadata": {},
   "outputs": [
    {
     "name": "stdout",
     "output_type": "stream",
     "text": [
      "Ingreso de datos\n",
      "hola\n",
      "impresion de datos\n",
      "hola\n"
     ]
    }
   ],
   "source": [
    "print('Ingreso de datos')\n",
    "datos = input()\n",
    "\n",
    "print('impresion de datos')\n",
    "print(datos)"
   ]
  },
  {
   "cell_type": "markdown",
   "id": "external-scotland",
   "metadata": {},
   "source": [
    "Ahora si queremos que el usuario vea un mensaje y a continuación coloque los datos, debemos pasarle un mensaje entre los paréntesis.\n",
    "\n",
    "```python\n",
    "edad = input(\"Dar la edad\")\n",
    "```"
   ]
  },
  {
   "cell_type": "code",
   "execution_count": 4,
   "id": "western-cleaning",
   "metadata": {},
   "outputs": [
    {
     "name": "stdout",
     "output_type": "stream",
     "text": [
      "Recibiendo datos\n",
      "Dar edad: 30\n",
      "Tu edad es: 30\n"
     ]
    }
   ],
   "source": [
    "print(\"Recibiendo datos\")\n",
    "\n",
    "edad = input(\"Dar edad: \")\n",
    "\n",
    "print(\"Tu edad es: \" + edad)"
   ]
  },
  {
   "cell_type": "markdown",
   "id": "coordinate-minority",
   "metadata": {},
   "source": [
    "## 5.5.2 Funcion `int()`"
   ]
  },
  {
   "cell_type": "markdown",
   "id": "english-elizabeth",
   "metadata": {},
   "source": []
  },
  {
   "cell_type": "markdown",
   "id": "gothic-marathon",
   "metadata": {},
   "source": []
  },
  {
   "cell_type": "markdown",
   "id": "improving-medline",
   "metadata": {},
   "source": []
  },
  {
   "cell_type": "markdown",
   "id": "together-egyptian",
   "metadata": {},
   "source": [
    "## 5.5.3 Funcion `float()`"
   ]
  },
  {
   "cell_type": "markdown",
   "id": "sudden-helmet",
   "metadata": {},
   "source": []
  },
  {
   "cell_type": "markdown",
   "id": "missing-composition",
   "metadata": {},
   "source": [
    "## 5.5.4 Funcion `bool()`"
   ]
  },
  {
   "cell_type": "markdown",
   "id": "vanilla-taxation",
   "metadata": {},
   "source": []
  },
  {
   "cell_type": "code",
   "execution_count": 5,
   "id": "expensive-still",
   "metadata": {},
   "outputs": [
    {
     "name": "stdout",
     "output_type": "stream",
     "text": [
      "<class 'float'>\n"
     ]
    }
   ],
   "source": [
    "print( type(float('2.5')) )"
   ]
  },
  {
   "cell_type": "markdown",
   "id": "surface-oxford",
   "metadata": {},
   "source": [
    "Realizado por Docente: [Alejandro Leyva](https://www.alejandro-leyva.com/)\n",
    "\n",
    "[Mecatrónica 85](https://mecatronica85.com/)\n",
    "\n",
    "[fb/mecatronica85](https://www.facebook.com/mecatronica85)"
   ]
  }
 ],
 "metadata": {
  "kernelspec": {
   "display_name": "Python 3",
   "language": "python",
   "name": "python3"
  },
  "language_info": {
   "codemirror_mode": {
    "name": "ipython",
    "version": 3
   },
   "file_extension": ".py",
   "mimetype": "text/x-python",
   "name": "python",
   "nbconvert_exporter": "python",
   "pygments_lexer": "ipython3",
   "version": "3.7.3"
  }
 },
 "nbformat": 4,
 "nbformat_minor": 5
}
