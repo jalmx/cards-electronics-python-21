{
 "cells": [
  {
   "cell_type": "markdown",
   "id": "special-performance",
   "metadata": {},
   "source": [
    "![banner](../logo/banner.png)"
   ]
  },
  {
   "cell_type": "markdown",
   "id": "wicked-hampshire",
   "metadata": {},
   "source": []
  },
  {
   "cell_type": "markdown",
   "id": "featured-texture",
   "metadata": {},
   "source": [
    "```python\n",
    "from pyfirmata import Arduino, util\n",
    "from time import sleep\n",
    " \n",
    "board = Arduino('COM4') # Change to your port\n",
    "lenPin = board.get_pin('d:6:p') # PWM Pin\n",
    "print(\"Starting to output PWM signal\")\n",
    "while True:\n",
    "    for i in range(0, 101, 4):\n",
    "        lenPin.write(i/100)\n",
    "        sleep(0.05)\n",
    "    sleep(1)\n",
    "    for i in range(100, -1, -4):\n",
    "        lenPin.write(i/100)\n",
    "        sleep(0.05)\n",
    "    sleep(1)\n",
    "```"
   ]
  },
  {
   "cell_type": "markdown",
   "id": "understanding-tampa",
   "metadata": {},
   "source": []
  },
  {
   "cell_type": "markdown",
   "id": "external-scotland",
   "metadata": {},
   "source": []
  },
  {
   "cell_type": "markdown",
   "id": "excessive-titanium",
   "metadata": {},
   "source": []
  },
  {
   "cell_type": "markdown",
   "id": "surface-oxford",
   "metadata": {},
   "source": [
    "---\n",
    "\n",
    "Realizado por Docente: [Alejandro Leyva](https://www.alejandro-leyva.com/)\n",
    "\n",
    "[Mecatrónica 85](https://mecatronica85.com/)\n",
    "\n",
    "[fb/mecatronica85](https://www.facebook.com/mecatronica85)"
   ]
  }
 ],
 "metadata": {
  "kernelspec": {
   "display_name": "Python 3",
   "language": "python",
   "name": "python3"
  },
  "language_info": {
   "codemirror_mode": {
    "name": "ipython",
    "version": 3
   },
   "file_extension": ".py",
   "mimetype": "text/x-python",
   "name": "python",
   "nbconvert_exporter": "python",
   "pygments_lexer": "ipython3",
   "version": "3.7.3"
  }
 },
 "nbformat": 4,
 "nbformat_minor": 5
}
