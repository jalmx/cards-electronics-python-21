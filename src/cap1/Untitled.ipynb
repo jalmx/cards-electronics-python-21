{
 "cells": [
  {
   "cell_type": "markdown",
   "id": "dedicated-newfoundland",
   "metadata": {},
   "source": [
    "# Estructua de un diagrama de flujo\n",
    "\n",
    "La estructura basica de un diagrama de flujo es como se muestra en la imagen"
   ]
  },
  {
   "cell_type": "markdown",
   "id": "sharp-nirvana",
   "metadata": {},
   "source": []
  }
 ],
 "metadata": {
  "kernelspec": {
   "display_name": "Python 3",
   "language": "python",
   "name": "python3"
  },
  "language_info": {
   "codemirror_mode": {
    "name": "ipython",
    "version": 3
   },
   "file_extension": ".py",
   "mimetype": "text/x-python",
   "name": "python",
   "nbconvert_exporter": "python",
   "pygments_lexer": "ipython3",
   "version": "3.7.3"
  }
 },
 "nbformat": 4,
 "nbformat_minor": 5
}
