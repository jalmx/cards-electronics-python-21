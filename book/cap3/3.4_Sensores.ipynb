{
 "cells": [
  {
   "cell_type": "markdown",
   "id": "special-performance",
   "metadata": {},
   "source": [
    "![banner](../logo/banner.png)"
   ]
  },
  {
   "cell_type": "markdown",
   "id": "wicked-hampshire",
   "metadata": {},
   "source": [
    "# 3.4 Sensores\n",
    "\n",
    "Un sensor en es un sistema el cual capta una variable física y reacciona para la activiacion de un actuador. Las partes generales de un sensor son:\n",
    "\n",
    "- Transductor\n",
    "- Acoplamiento de señal del transductor\n",
    "- Salida (Pasa la señal o acciona un actuador)\n",
    "\n",
    "![diagrama de bloques](TODO.png)\n",
    "\n",
    "*Un sensor es todo aquello que tiene una propiedad sensible a una magnitud del medio, y al variar esta magnitud también varía con cierta intensidad la propiedad, es decir, manifiesta la presencia de dicha magnitud, y también su medida...[Definción wikipedia](https://es.wikipedia.org/wiki/Sensor)*"
   ]
  },
  {
   "cell_type": "markdown",
   "id": "foster-diversity",
   "metadata": {},
   "source": [
    "## 3.4.1 Variable física\n",
    "\n",
    "Existen 6 variables fundamentales que podemos captar que son:\n",
    "\n",
    "- Temparatura (Calor, frio)\n",
    "- Caudal (Flujo)\n",
    "- Presión (Masa)\n",
    "- Radiación (Luz,...)\n",
    "- Velocidad (velocidad, aceleración)\n",
    "- Nivel\n",
    "\n",
    "Existen muchas más pero solo hago mencion de las mas basicas en instrumentacion."
   ]
  },
  {
   "cell_type": "markdown",
   "id": "brilliant-sector",
   "metadata": {},
   "source": [
    "## 3.4.2 Transductor\n",
    "\n",
    "Un tranductor es un elemento que es capaz de captar una variable física (temperatura, presión, flujo, etc..) convirtiendola en una señal electrica (corriente o voltaje). Sin embargo, normalmente la señal generada es muy pequeña, por ende, se debe mandar a una etapa de amplificación. La señal electrica o su variación siempre se da por algun efecto quimico en su interior por su constitución fisica.\n",
    "\n",
    "*Ejemplos:*\n",
    "\n",
    "- **LDR (Resistencia dependiente de luz)**: En funcion de la luz que incide por su ventana es el valor ohmico que representa al pasar la corriente\n",
    "\n",
    "![ldr](imgs/ldr.jpeg)\n",
    "\n",
    "- **Termocupla o termopar**: Es la union de dos conductores de diferente composicion química.\n",
    "\n",
    "![termocupla](imgs/termocupla.png)\n",
    "\n",
    "- **Pizoelectrico**: Es una lamina o material que al deformarse genera un nivel de voltaje.\n",
    "\n",
    "![pizoelectrico](imgs/pizoelectrico.jpeg)"
   ]
  },
  {
   "cell_type": "markdown",
   "id": "understanding-tampa",
   "metadata": {},
   "source": [
    "## 3.4.3 Tranductor Pasivo vs Activo\n",
    "\n",
    "Existen dos tipos de transductores los cuales pueden ser *pasivos* o *activos* esto significa la forma en cómo vamos a leer su señal o abquirirla, en funcion de ello vamos a acomplar, qué tipo es y amplificación.\n",
    "\n",
    "### 3.4.3.1 Pasivos\n",
    "\n",
    "Los `tranductores pasivos` son aquellos los caules para poder leer o conocer la variable fisica, se le debe aplicar un voltaje o corriente constante, para que en funcion de la variación de este voltaje o corriente que aplicamos podamos calcular su equivalencia o proporcion a dicha variable. Es decir, este tipo de transductor no es capaz de generar un voltaje o corriente la cual nos indique el valor de la magnitud fisica.\n",
    "\n",
    "El ejemplo más común es una LDR, la cual se debe aplicar en un divisor de tensión, y en funcion de la variación del luz hará variar el voltaje de la salida del voltaje.\n",
    "\n",
    "![sensor de luz](imgs/sensor_luz.jpeg)\n",
    "\n",
    "Como se puede observar en el circuito tenemos un divisor de tension dinamico que oscila el voltaje en función de la entrada de luz, esta salida normalmente va a otra etapa de amplificación.\n",
    "\n",
    "### 3.4.3.2 Activos\n",
    "\n",
    "Los `transductores activos` generan energia de forma natural, generando un voltaje o corriente al ser expuesto al contexto. Sin embargo, esta señal es demasiado pequeña para poder ser leido o un elemento digital o cualquier otro elemento.\n",
    "\n",
    "El ejemplo más comun es un termopar o termocupla, la cual esta constituida por 2 alambres de diferentes elementos químicos. Al se expuesto a altas temperatura genera un mili voltaje.\n",
    "\n",
    "![termocupla](imgs/termocupla_2.png)\n",
    "\n",
    "Como podemos observar al unir dos alambres de elementos distintos, al calentarse estos generan una diferencia de potencial.\n",
    "\n",
    "Aquí tenemos un circuito de ejemplo de acoplamiento de una termocupla con su etapa de amplificación.\n",
    "\n",
    "![circuito_termocupla](imgs/termocupla_circuit.jpg)"
   ]
  },
  {
   "cell_type": "markdown",
   "id": "excessive-titanium",
   "metadata": {},
   "source": [
    "## 3.4.4 Sensores Digitales vs Analógicos \n",
    "\n",
    "En general todos los transductores son analogicos, pero generan una señal muy pequeña, se necesita acoplar una o dos etapas de amplificación para tener un voltaje mayor equivalente. Pero justamente aquí al final de esa etapa la señal se puede enfocar para generar solo `señales digitales`, es decir, `un nivel alto o bajo`, o en su defecto generar un `rango de voltaje`, estos serían los `analogicos`"
   ]
  },
  {
   "cell_type": "markdown",
   "id": "liable-filename",
   "metadata": {},
   "source": [
    "## 3.4.4.1 Sensores Digitales\n",
    "\n",
    "Los sensores digitales solo pueden generar 2 tipos de señal, sea un `1` o un `0`. Existen rangos de voltajes que si estan en un rango se consideran `1 lógico` o `0 lógico`. A un rango se le conoce como voltajes TTL.\n",
    "\n",
    "Nivel lógico|Voltaje|\n",
    ":-:|:-:|\n",
    "1|3V a 5V\n",
    "0|0V a 0.8V\n",
    "\n",
    "Debemos conocer que tipo de sistema digital estamos empleando y verificar nuestro sensor para asegurar que se puede acoplar directamente o tendremos que acoplar esta señal al nivel que deseamos.\n",
    "\n",
    "![digital](imgs/signal_digital.png)\n",
    "\n",
    "### 3.4.4.1 Sensores digitales básicos vs protocolos\n",
    "\n",
    "Los sensores digitales básicos solo nos da una señal lógica, esto significa que tiene 2 estados, indicando si existe o no existe la variable o la magnitud fisica, si más.\n",
    "\n",
    "**Sensores básicos** \n",
    "\n",
    "*Ejemplo:*\n",
    "\n",
    "- **Sensor PIR**: Indica si existe presencia o no.\n",
    "\n",
    "![sensor pir](imgs/sensor_pir.jpeg)\n",
    "\n",
    "- **Sensor de Flama**: Indica si existe flama o no. Este por su naturaleza da un rango de voltaje, entonces se debe calibrar en que punto se dispara indicando si sobrepasa este punto o no.\n",
    "\n",
    "![sensor flama](imgs/sensor_flama.png)\n",
    "\n",
    "- **Sensor de luz**: Indica si existe luz o no. Este por su naturaleza da un rango de voltaje, entonces se debe calibrar en que punto se dispara indicando si sobrepasa este punto o no.\n",
    "\n",
    "![sensor luz](imgs/sensor_luz.png)\n",
    "\n",
    "#### Los sensores digitales con comunicación por protocolo\n",
    "\n",
    "Son sensores que internamente son mas complejos, estos ademas de contener su etapa del transductor, amplificación, acoplamiento, tienen un etapa de comunicación por medio de algun protocolo de comunicación:\n",
    "\n",
    "**Sensores con protocolo de comunicación:**\n",
    "\n",
    "\n",
    "- **DS18B20**: Sensor de temperatura con protocolo 1 Wire\n",
    "\n",
    "![DS18B20](imgs/DS18B20.jpg)\n",
    "\n",
    "- **BME280:**: Sensor de presión, humedad y temperatura con protocolo I2C.\n",
    "\n",
    "![BME280](imgs/BME280.jpg)\n",
    "\n",
    "- **MAX31855K**: Sensor de temperatura con protocolo SPI\n",
    "\n",
    "![MAX31855K](imgs/MAX31855K.jpg)"
   ]
  },
  {
   "cell_type": "markdown",
   "id": "sacred-shark",
   "metadata": {},
   "source": [
    "## 3.4.4.2 Sensores Analógicos\n",
    "\n",
    "Los sensores analogicos nos proveen un rango de voltaje en el que operan, este voltaje es proporcional la variable o magnitud fisica que esta sensando. Los sensores que son empleados a sistemas digitales trabajan habitualmente en un rango de `0V a 5V` o `0V a 3.3V`, estos rangos son comunes pero no los unicos. En ocasiones tenemos que amplificar este rango para que se pueda aprovechar de mejor manera.\n",
    "\n",
    "![signal](imgs/digital_analogico.jpg)\n",
    "\n",
    "Pero este rango de voltaje no se puede mandar directamente al sistema digital antes debe pasar por otro elemento que haga la conversion a un sistema digital, estos elementos se llaman **[ADC](https://es.wikipedia.org/wiki/Conversor_de_se%C3%B1al_anal%C3%B3gica_a_digital)**, este elemento hace posible que el microcontrolador pueda entender la señal análogica.\n",
    "\n",
    "![adc](imgs/adc.png)"
   ]
  },
  {
   "cell_type": "markdown",
   "id": "catholic-converter",
   "metadata": {},
   "source": [
    "## 3.4.5 Actuadores electricos o electronicos\n",
    "\n",
    "El actuador es el elemento que actua o realiza una acción a la salida de un sensor, no siempre viene el actuador incorporado al sensor.\n",
    "\n",
    "Los actuadores más comunes son:\n",
    "\n",
    "- Relay\n",
    "- Solenoide\n",
    "- Bocina\n",
    "- LED\n",
    "- Buzzer\n",
    "\n",
    "Aquí se pueden ver varios circuitos de sensores:\n",
    "\n",
    "**Sensor crepuscular**\n",
    "\n",
    "![sensor crepuscular](imgs/sensor_crepuscular.jpg)\n",
    "\n",
    "**Sensor de temperatura**\n",
    "\n",
    "![sensor de temperatura](imgs/sensor_temp.png)"
   ]
  },
  {
   "cell_type": "markdown",
   "id": "particular-handy",
   "metadata": {},
   "source": [
    "## Lista de sensores comúnes\n",
    "\n",
    "![sensores_kit](imgs/sensores.jpg)"
   ]
  },
  {
   "cell_type": "markdown",
   "id": "surface-oxford",
   "metadata": {},
   "source": [
    "---\n",
    "\n",
    "Realizado por Docente: [Alejandro Leyva](https://www.alejandro-leyva.com/)\n",
    "\n",
    "[Mecatrónica 85](https://mecatronica85.com/)\n",
    "\n",
    "[fb/mecatronica85](https://www.facebook.com/mecatronica85)"
   ]
  }
 ],
 "metadata": {
  "kernelspec": {
   "display_name": "Python 3",
   "language": "python",
   "name": "python3"
  },
  "language_info": {
   "codemirror_mode": {
    "name": "ipython",
    "version": 3
   },
   "file_extension": ".py",
   "mimetype": "text/x-python",
   "name": "python",
   "nbconvert_exporter": "python",
   "pygments_lexer": "ipython3",
   "version": "3.7.3"
  }
 },
 "nbformat": 4,
 "nbformat_minor": 5
}
