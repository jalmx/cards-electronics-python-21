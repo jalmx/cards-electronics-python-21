{
 "cells": [
  {
   "cell_type": "markdown",
   "id": "special-performance",
   "metadata": {},
   "source": [
    "![banner](../logo/banner.png)"
   ]
  },
  {
   "cell_type": "markdown",
   "id": "wicked-hampshire",
   "metadata": {},
   "source": [
    "# 3.1 El microcontrolador\n",
    "\n",
    "Existen varias formas de programar un microcontrolador o tarjetas electronica basadas en microcontroladores o microprocesadores. Hay microcontroladores que se pueden programar directamente con Python pero realmente es una reimplementacion del lenguaje que no contiene todas la librerias, llamada [MicroPython](https://micropython.org/) la cual es un interprete simplificado para microcontroladores.\n",
    "\n",
    "En nuestro caso usaremos directamente el lenguaje Python para el control de un microncontrolador atraves de un protocolo de comunicacion llamando [Firmata](https://github.com/firmata/protocol), por medio de este estandar se establecera comunicacion y control de una placa electronica."
   ]
  },
  {
   "cell_type": "markdown",
   "id": "featured-texture",
   "metadata": {},
   "source": [
    "## 3.1.1 El microcontrolador y Microprocesador\n",
    "\n",
    "Un **microprocesador** es el elemento que realiza el procesamiento de datos, ejecuta instrucciones, realiza operaciones matematicas, en resumen es el cerebro de todo sistema computacional. Es lo unico que hace. Tambien conocido como CPU (Unidad Central de Proceso)\n",
    "\n",
    "El **microcontrolador** es un circuito integrado compuesto por un microprocesador, elementos auxiliares y perifericos. *En resumen es una computadora*. El cual se puede programar para realizar cualquier tipo de tarea. Los elementos minimos que debe contener son:\n",
    "\n",
    "- CPU (Procesador)\n",
    "- Memorias:\n",
    "    - RAM\n",
    "    - ROM\n",
    "- Perifericos (GPIO)\n",
    "\n",
    "### Arquitectura de Microcomputadoras\n",
    "\n",
    "Existen 2 arquitecturas de computadoras que son: `Von Neumann` y `Harvard`. En este caso los microcontroladores tienen una arquitectura *Von Neumann* dado que todo viene integrado en un solo chip.\n"
   ]
  },
  {
   "cell_type": "markdown",
   "id": "understanding-tampa",
   "metadata": {},
   "source": [
    "## 3.2.1 Microcontrolador ATMEGA328A\n",
    "\n",
    "Es un microcontrolador de 8 bits, del fabricante ATMEL (actualmente propiedad de Microchip). Tiene las siguientes características:\n",
    "\n",
    "Características | Dato\n",
    ":-|:-:\n",
    "No. of Pins\t|28\n",
    "CPU|\tRISC 8-Bit AVR\n",
    "Operating Voltage\t| 1.8 to 5.5 V\n",
    "Program Memory\t|32KB\n",
    "Program Memory Type\t| Flash\n",
    "SRAM\t|2048 Bytes\n",
    "EEPROM\t|1024 Bytes\n",
    "ADC\t|10-Bit\n",
    "Number of ADC Channels\t|8\n",
    "PWM Pins|6\n",
    "Comparator|1\n",
    "Packages (4)\t|8-pin PDIP32-lead TQFP28-pad QFN/MLF32-pad QFN/MLF\n",
    "Oscillator\t|up to 20 MHz\n",
    "Timer (3)\t|8-Bit x 2 & 16-Bit x 1\n",
    "Enhanced Power on Reset|\tYes\n",
    "Power Up Timer\t|Yes\n",
    "I/O Pins\t|23\n",
    "Manufacturer\t|Microchip\n",
    "SPI\t|Yes\n",
    "I2C\t|Yes\n",
    "Watchdog Timer\t|Yes\n",
    "Brown out detect (BOD)\t|Yes\n",
    "Reset\t|Yes\n",
    "Minimum Operating Temperature\t|-40 C to +85 C\n",
    "\n",
    "Para más detalles el [datasheet del ATMEGA328A](http://ww1.microchip.com/downloads/en/DeviceDoc/Atmel-7810-Automotive-Microcontrollers-ATmega328P_Datasheet.pdf)"
   ]
  },
  {
   "cell_type": "markdown",
   "id": "recognized-absence",
   "metadata": {},
   "source": [
    "### Pines del microcontrolador\n",
    "\n",
    "La siguiente imagen muestra la distribución de pines y que función realiza cada uno.\n",
    "\n",
    "![pinout](./imgs/pinout.jpg)"
   ]
  },
  {
   "cell_type": "markdown",
   "id": "external-scotland",
   "metadata": {},
   "source": [
    "## 3.2.2 Tarjetas electronicas\n",
    "\n",
    "Vamos a utilizar una tarjeta electronica basada en el microcontrolador ATMEGA328, la cual es la placa [Arduino](https://www.arduino.cc/) UNO. La cual es una placa de desarrollo de prototipos electronicos. En conjunto con un protocolo llamado [Firmata](https://github.com/firmata/protocol). Se carga un firmware al microcontrolador, el cual contiene el protocolo Firmata y con un script de Python mandaremos las instrucciones de control.\n",
    "\n",
    "En la siguiente imagen se muestra la aquitectura general de como sera la comunicacion entre un Script de Python y La tarjeta electrónica Arduino Uno.\n",
    "\n",
    "![arquitectura](./imgs/arquitectura.png)"
   ]
  },
  {
   "cell_type": "markdown",
   "id": "latter-howard",
   "metadata": {},
   "source": [
    "### 3.2.2.1 Configurando el entorno de trabajo \n",
    "\n",
    "1. Instalar la libreria [pyFirmata](https://pypi.org/project/pyFirmata/), esta libreria nos ayudara a comunicar Python con cualquier microcontrolador que contenga dicho protocolo.<br> `pip install pyFirmata --user`.\n",
    "\n",
    "2. Para simulación usaremos el software [SimulIDE](https://www.simulide.com/p/home.html)\n",
    "\n",
    "3. Crear un puertos virtuales, esto es para poder conectar el simulador con el script. Para Windows se usará [Null-modem emulator\n",
    "(com0com)]( https://simulide.blogspot.com/p/seven-segment-display.html). (Esto solo es para simulación). [Descargar](https://sourceforge.net/projects/com0com/)\n",
    "\n",
    "4. Instalar [Arduino IDE](https://www.arduino.cc/en/software) para cargar el firmware de Firmata a la placa electrónica Arduino UNO.\n",
    "\n",
    "![ports](./imgs/port.webp)"
   ]
  },
  {
   "cell_type": "markdown",
   "id": "indonesian-shuttle",
   "metadata": {},
   "source": [
    "### 3.2.2.2 Firmware Firmata\n",
    "\n",
    "Para carga el firmware de Firmata viene por default en Arduino IDE en caso que se quiera carga a la placa de manera fisica, para el caso de usar el simular [descarga el binario](firmware.hex) a cargar."
   ]
  },
  {
   "cell_type": "markdown",
   "id": "surface-oxford",
   "metadata": {},
   "source": [
    "---\n",
    "\n",
    "Realizado por Docente: [Alejandro Leyva](https://www.alejandro-leyva.com/)\n",
    "\n",
    "[Mecatrónica 85](https://mecatronica85.com/)\n",
    "\n",
    "[fb/mecatronica85](https://www.facebook.com/mecatronica85)"
   ]
  }
 ],
 "metadata": {
  "kernelspec": {
   "display_name": "Python 3",
   "language": "python",
   "name": "python3"
  },
  "language_info": {
   "codemirror_mode": {
    "name": "ipython",
    "version": 3
   },
   "file_extension": ".py",
   "mimetype": "text/x-python",
   "name": "python",
   "nbconvert_exporter": "python",
   "pygments_lexer": "ipython3",
   "version": "3.7.3"
  }
 },
 "nbformat": 4,
 "nbformat_minor": 5
}
