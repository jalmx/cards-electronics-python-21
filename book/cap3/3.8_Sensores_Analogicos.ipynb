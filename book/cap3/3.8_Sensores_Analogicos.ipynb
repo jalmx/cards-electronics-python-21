{
 "cells": [
  {
   "cell_type": "markdown",
   "id": "special-performance",
   "metadata": {},
   "source": [
    "![banner](../logo/banner.png)"
   ]
  },
  {
   "cell_type": "markdown",
   "id": "wicked-hampshire",
   "metadata": {},
   "source": [
    "# 3.8 Sensores analogicos\n",
    "\n",
    "Vamos a simular sensores analogicos usando un potenciomentro, el cual su variacion hara que realicemos una accion determinada."
   ]
  },
  {
   "cell_type": "markdown",
   "id": "featured-texture",
   "metadata": {},
   "source": [
    "## 3.8.1 Sensor de distancia infrarrojo\n",
    "\n",
    "Un sensor infrarrojo la señal que nos entrega es la relacion de que tanta luz incide en el fototransistor, la cual es emitida por un led infrarrojo. Es decir, si la luz que emite el led llega al fototransistor debemos realizar o no una accion.\n",
    "\n",
    "![irda](imgs/infrarrojo_analogico.jpg)\n",
    "\n",
    "Ejemplo de un circuito de sensor infrarro simple:\n",
    "\n",
    "![circuito irda](imgs/irda_circuito.png)"
   ]
  },
  {
   "cell_type": "markdown",
   "id": "understanding-tampa",
   "metadata": {},
   "source": [
    "### 3.8.1 Aplicacion de sensores infrarrojos\n",
    "\n",
    "**Ejemplo 1. **"
   ]
  },
  {
   "cell_type": "markdown",
   "id": "external-scotland",
   "metadata": {},
   "source": [
    "## 3.8.2 Sensor de corriente \n",
    "\n",
    "Tenemos vario sensores de corrientes, aqui muestro el sensor de efecto Hall y una bobina.\n",
    "Como tal el sensor hall detecta campos magneticos, no corriente, pero como un efecto del paso de la corriente genera un campo magnetico por ello se utiliza. \n",
    "Al pasar una corriente se genera un campo magnetico y si se le acerca una bobina se genera el efecto de induccion, lo que causa que en dicha bobina se genere una corriente equivalente a la corriente que pasa en el primer conductor.\n",
    "\n",
    "En ambos casos podemos determinar la cantidad de corriente que esta pasando en dicho conductor gracias a su campo magnetico.\n",
    "\n",
    "![hall](imgs/hall_analogico.jpeg)\n",
    "\n",
    "![bobina](imgs/corriente_sensor.jpg)"
   ]
  },
  {
   "cell_type": "markdown",
   "id": "b4cf2e04",
   "metadata": {},
   "source": [
    "### 3.8.2.1 Aplicacion de sensores de corriente\n",
    "\n",
    "**Ejemplo X. **\n",
    "\n"
   ]
  },
  {
   "cell_type": "markdown",
   "id": "00fc2905",
   "metadata": {},
   "source": []
  },
  {
   "cell_type": "markdown",
   "id": "1b3dd48f",
   "metadata": {},
   "source": []
  },
  {
   "cell_type": "markdown",
   "id": "8fd4c361",
   "metadata": {},
   "source": []
  },
  {
   "cell_type": "markdown",
   "id": "7dda523d",
   "metadata": {},
   "source": []
  },
  {
   "cell_type": "markdown",
   "id": "44fb9e67",
   "metadata": {},
   "source": []
  },
  {
   "cell_type": "markdown",
   "id": "excessive-titanium",
   "metadata": {},
   "source": [
    "---\n",
    "\n",
    "## Practicas - sensores Analogicos\n",
    "\n",
    "1. Simular un sensor de distancia ultrasonico, que cuando identifique que el objeto esta a una distancia menor a 10cm haga parpadear una barra de leds.\n",
    "2. Simular un sensor de luz junto con un sensor de presencia (digital). Dicho sensores trabajan a la par, si hay poca luz y existe presencia en el cuarto se debe encender un foco. En caso que no exista presencia sin importar la intensidad de la luz, el foco no enciende.\n",
    "3. Simular un sensor infrarrojo para accionar el movimiento de un servomotor, entre mas luz incida debe incrementar el angulo del servomotor. Es decir, entre mas cerca se incrementa el angulo, entre mas lejos es menor el angulo."
   ]
  },
  {
   "cell_type": "markdown",
   "id": "surface-oxford",
   "metadata": {},
   "source": [
    "Realizado por Docente: [Alejandro Leyva](https://www.alejandro-leyva.com/)\n",
    "\n",
    "[Mecatrónica 85](https://mecatronica85.com/)\n",
    "\n",
    "[fb/mecatronica85](https://www.facebook.com/mecatronica85)"
   ]
  }
 ],
 "metadata": {
  "kernelspec": {
   "display_name": "Python 3",
   "language": "python",
   "name": "python3"
  },
  "language_info": {
   "codemirror_mode": {
    "name": "ipython",
    "version": 3
   },
   "file_extension": ".py",
   "mimetype": "text/x-python",
   "name": "python",
   "nbconvert_exporter": "python",
   "pygments_lexer": "ipython3",
   "version": "3.7.3"
  }
 },
 "nbformat": 4,
 "nbformat_minor": 5
}
