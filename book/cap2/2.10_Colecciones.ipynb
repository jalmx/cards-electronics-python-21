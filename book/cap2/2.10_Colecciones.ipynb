{
 "cells": [
  {
   "cell_type": "markdown",
   "id": "special-performance",
   "metadata": {},
   "source": [
    "![banner](../logo/banner.png)"
   ]
  },
  {
   "cell_type": "markdown",
   "id": "wicked-hampshire",
   "metadata": {},
   "source": [
    "# 2.10 Colecciones\n",
    "\n",
    "Dentro de los lenguajes de programación hay tipos datos que son estructuras que pueden contener más de un dato, a comparación de los tipos de datos básicos, estas estructuras pueden contener muchos de esos datos básicos en su interior. Podrías decir que es una base de datos, pero esta solo existe mientras está la aplicación en ejecución, los datos son temporales. Las colecciones pueden contener cualquier tipo de dato, incluso mas colecciones.\n",
    "\n",
    "En python son los siguientes:\n",
    "\n",
    "- `Tuplas` Tipo de dato Inmutable\n",
    "- `Listas (arrays)` Tipo de Mutable\n",
    "- `Diccionarios`\n",
    "- `Sets`\n",
    "\n",
    "*Nota: En este curso solo se cubriran las tuplas y las listas.*"
   ]
  },
  {
   "cell_type": "markdown",
   "id": "featured-texture",
   "metadata": {},
   "source": [
    "## 2.10.1 Tuplas\n",
    "\n"
   ]
  },
  {
   "cell_type": "markdown",
   "id": "understanding-tampa",
   "metadata": {},
   "source": [
    "Es una estructura de datos **inmutables**, una vez declarada no puede cambiar su contenido, ni agregar, ni eliminar, no modificar. \n",
    "\n",
    "Cada posicion de los datos tiene un **indice** (index), el cual me ayuda a acceder a el. *La primera posicion siempre es 0*.\n",
    "\n",
    "**La convencion de como declarar o nombrar a una lista o tupla es en plural**\n",
    "\n",
    "Parametros a destacar:\n",
    "\n",
    "- index: Indice\n",
    "- len: Longitud\n",
    "\n",
    "**Sintaxis:**\n",
    "\n",
    "```python\n",
    "nombre_tupla = (dato1, dato2, ..., datoN)\n",
    "\n",
    "```"
   ]
  },
  {
   "cell_type": "code",
   "execution_count": 11,
   "id": "modified-primary",
   "metadata": {},
   "outputs": [
    {
     "name": "stdout",
     "output_type": "stream",
     "text": [
      "(8, 7, 9)\n",
      "<class 'tuple'>\n"
     ]
    }
   ],
   "source": [
    "# Declaracion de una tupla\n",
    "\n",
    "# Tiene 3 posiciones, comenzado en el 0. Largo de 3\n",
    "\n",
    "calificaciones = (8,7,9) \n",
    "\n",
    "print(calificaciones)\n",
    "\n",
    "print( type(calificaciones) ) \n",
    "\n"
   ]
  },
  {
   "cell_type": "code",
   "execution_count": 12,
   "id": "ordinary-pickup",
   "metadata": {},
   "outputs": [
    {
     "name": "stdout",
     "output_type": "stream",
     "text": [
      "8\n",
      "7\n",
      "9\n"
     ]
    }
   ],
   "source": [
    "# vamos a acceder a cada dato\n",
    "\n",
    "calificacion1 = calificaciones[0]\n",
    "calificacion2 = calificaciones[1]\n",
    "calificacion3 = calificaciones[2]\n",
    "\n",
    "print(calificacion1)\n",
    "print(calificacion2)\n",
    "print(calificacion3)"
   ]
  },
  {
   "cell_type": "code",
   "execution_count": 13,
   "id": "express-external",
   "metadata": {},
   "outputs": [
    {
     "name": "stdout",
     "output_type": "stream",
     "text": [
      "8\n",
      "7\n",
      "9\n",
      "-------------------------\n",
      "8\n",
      "7\n",
      "9\n"
     ]
    }
   ],
   "source": [
    "# Recorriendo tuplas con for y while\n",
    "\n",
    "for calificacion in calificaciones:\n",
    "    print(calificacion)\n",
    "    \n",
    "print('-------------------------')\n",
    "\n",
    "contador = 0\n",
    "\n",
    "while contador < len(calificaciones):\n",
    "    calificacion = calificaciones[contador]\n",
    "    print(calificacion)\n",
    "    contador += 1"
   ]
  },
  {
   "cell_type": "markdown",
   "id": "spare-tongue",
   "metadata": {},
   "source": [
    "## 2.10.2 Listas\n",
    "\n",
    "Es una coleccion de elementos ordenados. En otro lenguajes es conocido como un `array`. A este tipo de coleccion es Mutable, es decir, se le pueden agregar, eliminar, quitar, elementos. Podemos hacer diversas operaciones con ellos.\n",
    "\n",
    "Elementos que debemos tener en cuenta son:\n",
    "\n",
    "- `index`: El indice o posicion de cada elemento en la lista, recordar que todas comienzan en la posicion 0.\n",
    "- `length`: La longitud o cantidad de elementos que contiene\n",
    "\n",
    "**Sintaxis**\n",
    "\n",
    "```python\n",
    "nombre_lista = [elemento1, elemento2, elemento3,.. , ..]\n",
    "```"
   ]
  },
  {
   "cell_type": "markdown",
   "id": "lucky-pacific",
   "metadata": {},
   "source": [
    "### 2.10.2.1 Funciones de las listas\n",
    "\n",
    "Las lista son un objeto, por lo tanto cuenta con diversos metodos los cuales nos ayudan a interactuar con ellos:\n",
    "\n",
    "- `append(element)`:\tAdds an element at the end of the list\n",
    "- `clear()`:\tRemoves all the elements from the list\n",
    "- `copy()`:\tReturns a copy of the list\n",
    "- `count(element)`:\tReturns the number of elements with the specified value\n",
    "- `extend(list)`:\tAdd the elements of a list (or any iterable), to the end of the current list\n",
    "- `index(element[,start[,end]])`:\tReturns the index of the first element with the specified value\n",
    "- `insert(<position, element)`:\tAdds an element at the specified position\n",
    "- `pop([index])`:\tRemoves the element at the specified position\n",
    "- `remove(element)`:\tRemoves the first item with the specified value\n",
    "- `reverse()`:\tReverses the order of the list\n",
    "- `sort()`:\tSorts the list"
   ]
  },
  {
   "cell_type": "code",
   "execution_count": 3,
   "id": "british-textbook",
   "metadata": {},
   "outputs": [
    {
     "name": "stdout",
     "output_type": "stream",
     "text": [
      "['analogicas', 'digitales', 'mediciones']\n",
      "['analogicas', 'digitales', 'mediciones', 'dibujo 3D']\n",
      "['analogicas', 'digitales', 'mediciones', 'dibujo 3D', 'neumatica', 'mecanismos']\n",
      "['analogicas', 'digitales', 'Matematicas', 'mediciones', 'dibujo 3D', 'neumatica', 'mecanismos']\n",
      "['analogicas', 'digitales', 'mediciones', 'dibujo 3D', 'neumatica', 'mecanismos']\n",
      "['analogicas', 'dibujo 3D', 'digitales', 'mecanismos', 'mediciones', 'neumatica']\n",
      "['analogicas', 'dibujo 3D', 'digitales', 'mecanismos', 'mediciones']\n",
      "ultima materia: neumatica\n"
     ]
    }
   ],
   "source": [
    "# Declaro una lista con unas materias\n",
    "materias = ['analogicas', 'digitales', 'mediciones'] # lista de str\n",
    "\n",
    "print(materias)\n",
    "\n",
    "#agregamos una materia mas a la lista\n",
    "materias.append('dibujo 3D')\n",
    "\n",
    "#imprimo la lista\n",
    "print(materias)\n",
    "\n",
    "#creo otra lista\n",
    "materias2 = ['neumatica', 'mecanismos']\n",
    "\n",
    "# Extendemos la primer lista con la segunda\n",
    "materias.extend(materias2)\n",
    "\n",
    "#imprimo la lista\n",
    "print(materias)\n",
    "\n",
    "#inserto una materia en la posicion 2\n",
    "materias.insert(2,'Matematicas')\n",
    "\n",
    "#imprimo la lista\n",
    "print(materias)\n",
    "\n",
    "#removemos el elemento 'Matematicas'\n",
    "materias.remove(\"Matematicas\")\n",
    "\n",
    "#imprimo la lista\n",
    "print(materias)\n",
    "\n",
    "# Ordenamos las lista\n",
    "materias.sort()\n",
    "\n",
    "#imprimo la lista\n",
    "print(materias)\n",
    "\n",
    "# sacamos un elemento de la lista, si no se especifica saca al ultimo\n",
    "ultima_materia = materias.pop()\n",
    "\n",
    "#imprimo la lista\n",
    "print(materias)\n",
    "\n",
    "print('ultima materia:', ultima_materia)"
   ]
  },
  {
   "cell_type": "markdown",
   "id": "cleared-future",
   "metadata": {},
   "source": [
    "### Obteniendo los datos de una lista\n",
    "\n",
    "**Sintaxis**\n",
    "\n",
    "```python\n",
    "   \n",
    "    variable = nombre_lista [ posicion ]\n",
    "\n",
    "```"
   ]
  },
  {
   "cell_type": "code",
   "execution_count": 14,
   "id": "literary-netherlands",
   "metadata": {},
   "outputs": [
    {
     "name": "stdout",
     "output_type": "stream",
     "text": [
      "analogicas\n",
      "dibujo 3D\n",
      "digitales\n",
      "mecanismos\n"
     ]
    }
   ],
   "source": [
    "#Acceso a los datos de la lista\n",
    "\n",
    "materia1 = materias[0]\n",
    "materia2 = materias[1]\n",
    "materia3 = materias[2]\n",
    "materia4 = materias[3]\n",
    "\n",
    "print(materia1)\n",
    "print(materia2)\n",
    "print(materia3)\n",
    "print(materia4)"
   ]
  },
  {
   "cell_type": "code",
   "execution_count": 11,
   "id": "fatty-kingdom",
   "metadata": {},
   "outputs": [
    {
     "name": "stdout",
     "output_type": "stream",
     "text": [
      "La materia es:  analogicas\n",
      "La materia es:  dibujo 3D\n",
      "La materia es:  digitales\n",
      "La materia es:  mecanismos\n",
      "La materia es:  mediciones\n",
      "*********************\n",
      "analogicas\n",
      "dibujo 3D\n",
      "digitales\n",
      "mecanismos\n",
      "mediciones\n"
     ]
    }
   ],
   "source": [
    "# Recorriendo una lista con FOR\n",
    "\n",
    "for materia in materias:\n",
    "    print('La materia es: ', materia)\n",
    "\n",
    "print('*********************')\n",
    "# Recorriendo una lista con WHILE\n",
    "\n",
    "count = 0\n",
    "\n",
    "while count < len(materias):\n",
    "    materia = materias[count]\n",
    "    print(materia)\n",
    "    count +=1\n"
   ]
  },
  {
   "cell_type": "code",
   "execution_count": 7,
   "id": "cleared-keeping",
   "metadata": {},
   "outputs": [
    {
     "name": "stdout",
     "output_type": "stream",
     "text": [
      "La suma: 47\n",
      "El valor maximo: 9\n",
      "El valor minimo: 1\n"
     ]
    }
   ],
   "source": [
    "# Cosas adicionales que se pueden realizar con listas\n",
    "\n",
    "#obtener la suma de los valores contenidos en la lista\n",
    "\n",
    "valores = [1,5,3,9,6,3,5,8,7]\n",
    "\n",
    "suma = sum(valores)\n",
    "maximo = max(valores)\n",
    "minimo = min(valores)\n",
    "\n",
    "print(\"La suma:\", suma)\n",
    "print(\"El valor maximo:\", maximo)\n",
    "print(\"El valor minimo:\", minimo)\n"
   ]
  },
  {
   "cell_type": "markdown",
   "id": "powerful-supplier",
   "metadata": {},
   "source": [
    "### Ejercicios\n",
    "\n",
    "1. Crear una lista de frutas: *manzana*, *platano* y *melon*. Posteriormete agregar *sandia*. Despues agregarle una lista mas que contenga *papaya*, *kiwi* y *durazno*. He imprimir la lista completa. Despues remover la *sandia* e imprimir el resultado. Recorrer la lista de frutas imprimiendo cada una.\n",
    "\n",
    "2. Crear una lista con sus calificaciones de Neumatica, "
   ]
  },
  {
   "cell_type": "markdown",
   "id": "excessive-titanium",
   "metadata": {},
   "source": [
    "## 2.10.2 Listas"
   ]
  },
  {
   "cell_type": "markdown",
   "id": "atlantic-tuning",
   "metadata": {},
   "source": [
    "## Eliminando elementos de la lista `del`\n",
    "\n",
    "Cuando queremos eliminar algun elemento de una coleccion se usa la palabra reservada `del` junto a la posicion del elemento a eliminar.\n",
    "\n",
    "**Sintaxis**\n",
    "\n",
    "-  `del coleccion[posicion]`"
   ]
  },
  {
   "cell_type": "code",
   "execution_count": null,
   "id": "express-convergence",
   "metadata": {},
   "outputs": [],
   "source": [
    "# Eliminar elementos de una coleccion\n",
    "\n",
    "materias = ['analogica', 'digitales', 'mediciones' ]\n",
    "\n",
    "print(materias)\n",
    "\n",
    "del materias[1] # Elimino el elemento que esta en la posicion 1 de la coleccion\n",
    "\n",
    "print(materias)"
   ]
  },
  {
   "cell_type": "markdown",
   "id": "subsequent-creativity",
   "metadata": {},
   "source": [
    "## Funcion `len`\n",
    "\n",
    "Los iteradores por default no te dicen cual es su largo, en muchas ocasiones necesitamos saber el largo para realizar ciertas tareas, para eso Python trae una funcion que nos ayuda.\n",
    "\n",
    "**Sintaxis**\n",
    "\n",
    "- `len(coleccion)`: Devuelve el numero de los elementos de una coleccion"
   ]
  },
  {
   "cell_type": "code",
   "execution_count": null,
   "id": "appropriate-bolivia",
   "metadata": {},
   "outputs": [],
   "source": [
    "# Ejemplos de aplicacion de la funcion len()\n",
    "\n",
    "string = 'hola'\n",
    "str_len = len(string)\n",
    "\n",
    "tupla = (5,9,3,6,'mensaje')\n",
    "tupla_len = len(tupla)\n",
    "\n",
    "lista = [1,2,3,6,'hola']\n",
    "lista_len = len(lista)\n",
    "\n",
    "diccionario = {'key1': 'valor1', 'key2': 'valor2', 'key3': 'valor3' }\n",
    "dic_len = len(diccionario)\n",
    "\n",
    "print('largo de str',str_len)\n",
    "print('largo de tupla',tupla_len)\n",
    "print('largo de lista',lista_len)\n",
    "print('largo de diccionario',dic_len)"
   ]
  },
  {
   "cell_type": "markdown",
   "id": "chronic-assembly",
   "metadata": {},
   "source": [
    "## Funcion de ordenamiento (`sorted`)\n",
    "\n",
    "TODO\n",
    "\n",
    "https://developers.google.com/edu/python/sorting"
   ]
  },
  {
   "cell_type": "markdown",
   "id": "alpha-western",
   "metadata": {},
   "source": [
    "## Funcion `tuple`\n",
    "\n",
    "TODO"
   ]
  },
  {
   "cell_type": "markdown",
   "id": "intelligent-designer",
   "metadata": {},
   "source": [
    "## Funcion `list`\n",
    "\n",
    "TODO"
   ]
  },
  {
   "cell_type": "markdown",
   "id": "spectacular-socket",
   "metadata": {},
   "source": [
    "## Funcion `dict`\n",
    "\n",
    "TODO"
   ]
  },
  {
   "cell_type": "markdown",
   "id": "cleared-prefix",
   "metadata": {},
   "source": []
  },
  {
   "cell_type": "markdown",
   "id": "surface-oxford",
   "metadata": {},
   "source": [
    "Realizado por Docente: [Alejandro Leyva](https://www.alejandro-leyva.com/)\n",
    "\n",
    "[Mecatrónica 85](https://mecatronica85.com/)\n",
    "\n",
    "[fb/mecatronica85](https://www.facebook.com/mecatronica85)"
   ]
  }
 ],
 "metadata": {
  "kernelspec": {
   "display_name": "Python 3",
   "language": "python",
   "name": "python3"
  },
  "language_info": {
   "codemirror_mode": {
    "name": "ipython",
    "version": 3
   },
   "file_extension": ".py",
   "mimetype": "text/x-python",
   "name": "python",
   "nbconvert_exporter": "python",
   "pygments_lexer": "ipython3",
   "version": "3.7.3"
  }
 },
 "nbformat": 4,
 "nbformat_minor": 5
}
