{
 "cells": [
  {
   "cell_type": "markdown",
   "id": "special-performance",
   "metadata": {},
   "source": [
    "![banner](../logo/banner.png)"
   ]
  },
  {
   "cell_type": "markdown",
   "id": "wicked-hampshire",
   "metadata": {},
   "source": [
    "# 3.3 Entradas digitales (inputs)\n",
    "\n",
    "Las entradas digitales son solo 2 formas, recibir un *nivel logico 0* o un *nivel logico 1*, las cuales indican un estado en la entrada y con base a ello tomar desiciones para realizar una o varias tareas.\n",
    "\n",
    "Las entradas en el microcontrolador son `nivel lógico 1` o `alto`, lo que tendremos en pin a la entrada será un nivel de voltaje de `5V`, en caso de recibir un `0` o `bajo`, es equivalente a `0V`.\n",
    "\n",
    "\n",
    "Nivel lógico|Digital|Voltaje\n",
    ":-:|:-:|:-:\n",
    "0|Bajo|0V\n",
    "1|Alto|5V"
   ]
  },
  {
   "cell_type": "markdown",
   "id": "featured-texture",
   "metadata": {},
   "source": [
    "## 3.3.1 Recibiendo datos a la entrada\n",
    "\n",
    "Para poder leer datos de la tarjeta debemos habilitar unas opciones más, de lo contrario no podrá leer saber si ha recibido informacion.\n",
    "\n",
    "Debemos configuar que será entrada el *pin* y ademas activar un iterador en la libreria, el cual hace posible leer datos de entrada.\n",
    "\n",
    "```python\n",
    "# importamos los elementos necesarios\n",
    "from pyfirmata import Arduino, util, INPUT\n",
    "\n",
    "PORT = 'COM'\n",
    "board = Arduino(PORT)\n",
    "\n",
    "it = util.Iterator(board) # le pasamos la tarjeta al iterador\n",
    "it.start() #arrancamos a el iterador para poder leer entradas\n",
    "\n",
    "# configuro el pin como ENTRADA\n",
    "PIN = 2\n",
    "board.digital[PIN].mode = INPUT \n",
    "```\n",
    "---\n",
    "\n",
    "**Ejemplo 1: Haremos un circuito que imprima el valor si el boton esta siendo presionado**\n",
    "\n",
    "```python\n",
    "from pyfirmata import Arduino, util, INPUT\n",
    "from time import sleep\n",
    "\n",
    "PORT = 'COM'\n",
    "board = Arduino(PORT)\n",
    "\n",
    "it = util.Iterator(board) # le pasamos la tarjeta al iterador\n",
    "it.start() #arrancamos a el iterador para poder leer entradas\n",
    "\n",
    "# configuro el pin como ENTRADA\n",
    "PIN = 2\n",
    "board.digital[PIN].mode = INPUT \n",
    "\n",
    "while True:\n",
    "    boton = board.digital[PIN].read() # leemos el valor del pin\n",
    "    print(boton) # mandamos a imprimir el valor por la terminal\n",
    "    sleep(0.5) # damos un tiempo entre pulsaciones\n",
    "```\n",
    "\n",
    "![input 1](imgs/input_1.png)"
   ]
  },
  {
   "cell_type": "markdown",
   "id": "external-scotland",
   "metadata": {},
   "source": [
    "## **Otra forma de escribir el programa anterior**\n",
    "\n",
    "```python\n",
    "from pyfirmata import Arduino, util\n",
    "from time import sleep\n",
    "\n",
    "PORT = 'COM\n",
    "board = Arduino(PORT)\n",
    "\n",
    "it = util.Iterator(board) # le pasamos la tarjeta al iterador\n",
    "it.start() #arrancamos a el iterador para poder leer entradas\n",
    "\n",
    "# configuro el pin como ENTRADA\n",
    "board.get_pin('d:2:i')\n",
    "\n",
    "while True:\n",
    "    print(board.digital[2].read())\n",
    "    sleep(0.25)\n",
    "```"
   ]
  },
  {
   "cell_type": "markdown",
   "id": "moderate-tower",
   "metadata": {},
   "source": [
    "## 3.3.2 Pull-down vs Pull-up\n",
    "\n",
    "Existen dos formas de conexion de un boton hacia una entrada digital, una nos da un valor de un 1 por default (pull-up), mientras que la otra nos da un valor por default de 0 (pull-down)\n",
    "\n",
    "![pull](imgs/pulls.png)"
   ]
  },
  {
   "cell_type": "markdown",
   "id": "cross-grenada",
   "metadata": {},
   "source": []
  },
  {
   "cell_type": "markdown",
   "id": "viral-raleigh",
   "metadata": {},
   "source": []
  },
  {
   "cell_type": "markdown",
   "id": "dated-paris",
   "metadata": {},
   "source": []
  },
  {
   "cell_type": "markdown",
   "id": "excessive-titanium",
   "metadata": {},
   "source": [
    "## Modo de configuracion de pines `get_pin(t:p:m)`\n",
    "\n",
    "Existe otra manera de configurar los pines, es con el método `get_pin()`, el valor se pasa como string `str` separados por dos puntos `:`.\n",
    "\n",
    "**Tipo**\n",
    "\n",
    "- `a` : analogico\n",
    "- `d` : digital\n",
    "\n",
    "**Número de pin en la tarjeta:**\n",
    "\n",
    "- `pin`: del 2 al 13\n",
    "    \n",
    "**Modo:**\n",
    "\n",
    "- `i`: Entrada (input)\n",
    "- `o`: Salida (output)\n",
    "- `p`: PWM (salida analogica)\n",
    "\n",
    "**Ejemplos:**\n",
    "\n",
    "```python\n",
    "# pin 2 (D2) como salida de digital\n",
    "pin2 = board.get_pin('d:2:o')\n",
    "pin2.write(1)\n",
    "\n",
    "# pin 4 (D4) como entrada de digital\n",
    "pin4 = board.get_pin('d:4:i')\n",
    "pin4.write(1)\n",
    "\n",
    "# pin 0 (A0) como entrada analogica\n",
    "analog_0 = board.get_pin('a:0:i')\n",
    "analog_0.read()\n",
    "\n",
    "# pin 3 (D3) como salida en PWM (Salida analogica)\n",
    "pin3 = board.get_pin('d:3:p')\n",
    "pin3.write(0.6)\n",
    "```"
   ]
  },
  {
   "cell_type": "markdown",
   "id": "surface-oxford",
   "metadata": {},
   "source": [
    "---\n",
    "\n",
    "Realizado por Docente: [Alejandro Leyva](https://www.alejandro-leyva.com/)\n",
    "\n",
    "[Mecatrónica 85](https://mecatronica85.com/)\n",
    "\n",
    "[fb/mecatronica85](https://www.facebook.com/mecatronica85)"
   ]
  }
 ],
 "metadata": {
  "kernelspec": {
   "display_name": "Python 3",
   "language": "python",
   "name": "python3"
  },
  "language_info": {
   "codemirror_mode": {
    "name": "ipython",
    "version": 3
   },
   "file_extension": ".py",
   "mimetype": "text/x-python",
   "name": "python",
   "nbconvert_exporter": "python",
   "pygments_lexer": "ipython3",
   "version": "3.7.3"
  }
 },
 "nbformat": 4,
 "nbformat_minor": 5
}
