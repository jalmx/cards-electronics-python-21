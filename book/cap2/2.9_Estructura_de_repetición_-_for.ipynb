{
 "cells": [
  {
   "cell_type": "markdown",
   "id": "special-performance",
   "metadata": {},
   "source": [
    "![banner](../logo/banner.png)"
   ]
  },
  {
   "cell_type": "markdown",
   "id": "wicked-hampshire",
   "metadata": {},
   "source": [
    "# 2.9 Estructura de repetición `for`\n",
    "\n",
    "La siguiente estructura de control se llama `for`. Esta estructura tiene un comporamiento distinto a `while`. En esencial hace lo mismo, repite hasta un limite pero este se da distinto. \n",
    "\n",
    "Sintasix:\n",
    "\n",
    "```python\n",
    "for( variable in rango ) : \n",
    "    código a ejecutar\n",
    "    código a ejecutar\n",
    "    código a ejecutar\n",
    "    ...\n",
    "```"
   ]
  },
  {
   "cell_type": "markdown",
   "id": "featured-texture",
   "metadata": {},
   "source": [
    "## Funcion `range()`\n",
    "\n",
    "La funcion `range()` retorna un secuencia de numeros, comenzando por default en 0 e incrementando en 1, y se detiene antes del número especificado.\n",
    "\n",
    "**Sintaxis**\n",
    "\n",
    "```python\n",
    "range(start, stop, step)\n",
    "```\n",
    "\n",
    "**Parametros:**\n",
    "\n",
    "- `start`\t(opcional). Un numero entero especificamente para la posicion inicial, por default es 0\n",
    "- `stop`\t(Requerido). Un numero entero que especifica en donde se detendra.\n",
    "- `step`\t(opcional). Un numero entero que especifica el incremento. Por default es 1.\n",
    "\n",
    "Esta función se utiliza con el ciclo `for`"
   ]
  },
  {
   "cell_type": "code",
   "execution_count": null,
   "id": "radio-anger",
   "metadata": {},
   "outputs": [],
   "source": [
    "#Vamos a imprimir 10 números, del 0 al 9, recordemos que el número que le pasamos es el tope y ese no se imprime, \n",
    "#y el valor inicial por default es 0, el incremento es de 1 en 1\n",
    "\n",
    "for valor in range(10):\n",
    "    print(valor)\n",
    "    "
   ]
  },
  {
   "cell_type": "code",
   "execution_count": null,
   "id": "circular-shooting",
   "metadata": {},
   "outputs": [],
   "source": [
    "# Ahora vamos a imprimir en un rango, entonces se le pasa el inicio y el fin, comenzando en 2 y terminando en 11\n",
    "\n",
    "for valor in range(2,12):\n",
    "    print(valor)"
   ]
  },
  {
   "cell_type": "code",
   "execution_count": null,
   "id": "static-traffic",
   "metadata": {},
   "outputs": [],
   "source": [
    "# Ahora vamos a imprimir en un rango, entonces se le pasa el inicio y el fin, \n",
    "# comenzando en 1 y terminando en 20, de 2 en 2\n",
    "\n",
    "for valor in range(1,20,2):\n",
    "    print(valor)"
   ]
  },
  {
   "cell_type": "markdown",
   "id": "sought-cotton",
   "metadata": {},
   "source": [
    "*Nota: Cuando queramos ya sea comenzar en un numero distinto, o cero con un incremento diferente se tiene que pasar el valor de incremento forzosamente*"
   ]
  },
  {
   "cell_type": "markdown",
   "id": "expired-utility",
   "metadata": {},
   "source": [
    "### Ejemplos\n",
    "\n",
    "**1. Solicitar 3 calificaciones del parcial y calcular el promedio**"
   ]
  },
  {
   "cell_type": "code",
   "execution_count": null,
   "id": "cheap-liability",
   "metadata": {},
   "outputs": [],
   "source": [
    "suma = 0\n",
    "\n",
    "for calificacion in range(3):\n",
    "    parcial = float(input(\"Dar el parcial \" + str(calificacion + 1) + \": \"))\n",
    "    suma += parcial\n",
    "    \n",
    "promedio = suma / 3\n",
    "\n",
    "print(\"El promedio es \" + str(promedio))"
   ]
  },
  {
   "cell_type": "markdown",
   "id": "fleet-resistance",
   "metadata": {},
   "source": [
    "**2. Imprimir la tabla del 7 con el formato \"7 x 10 = 70\"**"
   ]
  },
  {
   "cell_type": "code",
   "execution_count": null,
   "id": "aquatic-artwork",
   "metadata": {},
   "outputs": [],
   "source": [
    "tabla = 7\n",
    "\n",
    "for contador in range(1,11):\n",
    "    resultado = tabla * contador\n",
    "    print( str(tabla) + \" x \" + str(contador) + \" = \" +  str(resultado) )\n"
   ]
  },
  {
   "cell_type": "markdown",
   "id": "wireless-cancellation",
   "metadata": {},
   "source": [
    "**3. Calcular el promedio, solicitando 3 parciales y al final dar el promedio**"
   ]
  },
  {
   "cell_type": "code",
   "execution_count": null,
   "id": "original-authentication",
   "metadata": {},
   "outputs": [],
   "source": [
    "parciales = 0\n",
    "\n",
    "for parcial in range(3):\n",
    "    calificacion = int( input(\"Dar parcial \" + str(parcial + 1) + \": \"  ) )\n",
    "    parciales += calificacion\n",
    "    \n",
    "promedio = parciales / 3\n",
    "\n",
    "print(\"Tu promedio es: \" + str(promedio))"
   ]
  },
  {
   "cell_type": "markdown",
   "id": "surface-oxford",
   "metadata": {},
   "source": [
    "---\n",
    "Realizado por Docente: [Alejandro Leyva](https://www.alejandro-leyva.com/)\n",
    "\n",
    "[Mecatrónica 85](https://mecatronica85.com/)\n",
    "\n",
    "[fb/mecatronica85](https://www.facebook.com/mecatronica85)"
   ]
  }
 ],
 "metadata": {
  "kernelspec": {
   "display_name": "Python 3",
   "language": "python",
   "name": "python3"
  },
  "language_info": {
   "codemirror_mode": {
    "name": "ipython",
    "version": 3
   },
   "file_extension": ".py",
   "mimetype": "text/x-python",
   "name": "python",
   "nbconvert_exporter": "python",
   "pygments_lexer": "ipython3",
   "version": "3.7.3"
  }
 },
 "nbformat": 4,
 "nbformat_minor": 5
}
