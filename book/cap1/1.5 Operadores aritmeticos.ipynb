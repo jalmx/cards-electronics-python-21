{
 "cells": [
  {
   "cell_type": "markdown",
   "id": "demanding-ticket",
   "metadata": {},
   "source": [
    "# banner"
   ]
  },
  {
   "cell_type": "markdown",
   "id": "desperate-hayes",
   "metadata": {},
   "source": [
    "# 1.5 Operadores aritmeticos"
   ]
  },
  {
   "cell_type": "markdown",
   "id": "mobile-server",
   "metadata": {},
   "source": [
    "En esta sección veremos los operadores arítmeticos basicos que podemos encontrar en la mayoria de lenguajes."
   ]
  },
  {
   "cell_type": "markdown",
   "id": "brief-biotechnology",
   "metadata": {},
   "source": [
    "Nombre | Símbolo | Descripción\n",
    ":-|:-:|:-\n",
    "Suma| + | Realiza la operación de suma arítmetica\n",
    "Resta| - | Realiza la operación de resta arítmetica\n",
    "Multiplicación| * | Realiza la operación de multiplicación arítmetica\n",
    "División| / | Realiza la operación de razón arítmetica\n",
    "Residuo o Módulo| % | Realiza la operación de división arítmetica y devuelve el residuo de ésta división"
   ]
  },
  {
   "cell_type": "markdown",
   "id": "intense-overview",
   "metadata": {},
   "source": [
    "*Cuando somos nuevos en el mundo de la programación queremos aplicar conocimiento que tenemos con relación a Matématicas, aquí existen algunas cuestiones que no se aplican de la misma manera o solo se puede aplicar de cierta forma.*"
   ]
  },
  {
   "cell_type": "markdown",
   "id": "flying-drawing",
   "metadata": {},
   "source": [
    "*Precauciones que debemos tener en cuenta son:*\n",
    "\n",
    "- El unico simbolo que podemos ocupar para la **divisón** es la diagonal o slash (/), no existe otro simbolo ni tampoco se puede ocupar los tradicionales que conocemos.\n",
    "- El unico simbolo para **multiplicación** es el asterisco (\\*), no existe algun otro ni ninguno más sirve para multiplicar.\n",
    "- **Los parentesís** \"( )\" solo agrupan y nada mas. **No sirven para multiplicar**. "
   ]
  },
  {
   "cell_type": "markdown",
   "id": "registered-glass",
   "metadata": {},
   "source": [
    "## Ejemplos:"
   ]
  },
  {
   "cell_type": "markdown",
   "id": "hourly-dress",
   "metadata": {},
   "source": [
    "**1. Realizar la multiplicación de dos números que ingrese el usuario e imprimir el resultado por pantalla**"
   ]
  },
  {
   "cell_type": "markdown",
   "id": "stuck-discovery",
   "metadata": {},
   "source": []
  },
  {
   "cell_type": "markdown",
   "id": "changing-israeli",
   "metadata": {},
   "source": []
  },
  {
   "cell_type": "markdown",
   "id": "several-depth",
   "metadata": {},
   "source": []
  },
  {
   "cell_type": "markdown",
   "id": "permanent-indie",
   "metadata": {},
   "source": []
  },
  {
   "cell_type": "markdown",
   "id": "other-viewer",
   "metadata": {},
   "source": []
  },
  {
   "cell_type": "markdown",
   "id": "different-reach",
   "metadata": {},
   "source": []
  },
  {
   "cell_type": "markdown",
   "id": "frequent-manchester",
   "metadata": {},
   "source": [
    "**2. Realizar un programa que divida dos números e imprima el resultado**"
   ]
  },
  {
   "cell_type": "markdown",
   "id": "organic-disney",
   "metadata": {},
   "source": []
  },
  {
   "cell_type": "markdown",
   "id": "functional-bathroom",
   "metadata": {},
   "source": []
  },
  {
   "cell_type": "markdown",
   "id": "desirable-pacific",
   "metadata": {},
   "source": []
  },
  {
   "cell_type": "markdown",
   "id": "mediterranean-strip",
   "metadata": {},
   "source": [
    "## 1.5.1 Precedencia de operadores"
   ]
  },
  {
   "cell_type": "markdown",
   "id": "immediate-chemical",
   "metadata": {},
   "source": [
    "*La precedencia de operadores funciona practicamente igual que en matématicas.* Recordemos que solo existen 5 operaciones aritméticas. \n",
    "\n",
    "Órden|Operación| Símbolo| Descripción\n",
    ":-:|:-|:-:|:-\n",
    "1|Agrupación| ( ) | Los parentesis solo realizan la operación de agrupar (no arítmetica), la operación que esta en los parentesis mas profundos son las primeras que se realizan\n",
    "2|Residuo|%| Obtiene el residuo de una división\n",
    "3|División|/| Realiza una división arítmetica\n",
    "4|Multiplicación|\\*| Realiza una multiplicación arítmetica\n",
    "5|Suma|+| Realiza una suma arítmetica\n",
    "6|Resta|-| Realiza una resta arítmetica"
   ]
  },
  {
   "cell_type": "markdown",
   "id": "stone-material",
   "metadata": {},
   "source": [
    "Vamos a hacer una comparativa en la forma matématica convencional y como se realiza en diagramas de flujo o programación (esto aplica practicamente a cualquier lenguaje)\n",
    "\n",
    "Matématicas | Programación\n",
    "-|:-:\n",
    "$$4+3$$|**4 + 3**\n",
    "$$10-3$$|**10 - 3**\n",
    "$$5\\times 5$$| **5 \\* 5**\n",
    "$$\\frac{3}{2}$$| **2 / 3**\n",
    "$$ \\frac{2 + 4}{6} $$| ( 2 + 4 ) / 6\n",
    "$$ 2 +  \\frac{4}{3} $$| 2 + ( 4 / 3 )"
   ]
  },
  {
   "cell_type": "markdown",
   "id": "informative-second",
   "metadata": {},
   "source": [
    "Realizado por Docente: [Alejandro Leyva](https://www.alejandro-leyva.com/)\n",
    "\n",
    "[Mecatrónica 85](https://mecatronica85.com/)\n",
    "\n",
    "[fb/mecatronica85](https://www.facebook.com/mecatronica85)"
   ]
  }
 ],
 "metadata": {
  "kernelspec": {
   "display_name": "Python 3",
   "language": "python",
   "name": "python3"
  },
  "language_info": {
   "codemirror_mode": {
    "name": "ipython",
    "version": 3
   },
   "file_extension": ".py",
   "mimetype": "text/x-python",
   "name": "python",
   "nbconvert_exporter": "python",
   "pygments_lexer": "ipython3",
   "version": "3.7.3"
  }
 },
 "nbformat": 4,
 "nbformat_minor": 5
}
