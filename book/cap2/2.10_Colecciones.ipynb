{
 "cells": [
  {
   "cell_type": "markdown",
   "id": "special-performance",
   "metadata": {},
   "source": [
    "![banner](../logo/banner.png)"
   ]
  },
  {
   "cell_type": "markdown",
   "id": "wicked-hampshire",
   "metadata": {},
   "source": [
    "# 2.10 Colecciones\n",
    "\n",
    "Dentro de los lenguajes de programación hay tipos datos que son estructuras que pueden contener más de un dato, a comparación de los tipos de datos básicos, estas estructuras pueden contener muchos de esos datos básicos en su interior. Podrías decir que es una base de datos, pero esta solo existe mientras está la aplicación en ejecución, los datos son temporales.\n",
    "\n",
    "En python son los siguientes:\n",
    "\n",
    "- `Tuplas` Tipo de dato Inmutable\n",
    "- `Listas (arrays)` Tipo de Mutable\n",
    "- `Diccionarios`\n",
    "- `Sets`\n",
    "\n",
    "*Nota: En este curso solo se cubriran las tuplas y las listas.*"
   ]
  },
  {
   "cell_type": "markdown",
   "id": "featured-texture",
   "metadata": {},
   "source": [
    "## 2.10.1 Tuplas\n",
    "\n"
   ]
  },
  {
   "cell_type": "markdown",
   "id": "understanding-tampa",
   "metadata": {},
   "source": [
    "Es una estructura de datos **inmutables**, una vez declarada no puede cambiar su contenido, ni agregar, ni eliminar, no modificar. \n",
    "\n",
    "Cada posicion de los datos tiene un **indice** (index), el cual me ayuda a acceder a el. *La primera posicion siempre es 0*.\n",
    "\n",
    "**La convencion de como declarar o nombrar a una lista o tupla es en plural**\n",
    "\n",
    "Parametros a destacar:\n",
    "\n",
    "- index: Indice\n",
    "- len: Longitud\n",
    "\n",
    "**Sintaxis:**\n",
    "\n",
    "```python\n",
    "nombre_tupla = (dato1, dato2, ..., daton)\n",
    "\n",
    "```"
   ]
  },
  {
   "cell_type": "code",
   "execution_count": 18,
   "id": "modified-primary",
   "metadata": {},
   "outputs": [
    {
     "name": "stdout",
     "output_type": "stream",
     "text": [
      "(8, 7, 9, 51, 561, 651, 65, 165, 1, 61, 65, 165, 1, 651, 965, 48, 91, 8, 41, 654, 9685, 1, 561, 65, 16, 51, 6, 4, 65, 165, 41, 6, 156, 1, 651, 65, 1, 651, 65, 1, 651, 65, 1, 651, 65, 1, 65, 16, 51, 65, 1, 651, 65, 1, 65, 19)\n",
      "<class 'tuple'>\n"
     ]
    }
   ],
   "source": [
    "# Declaracion de una tupla\n",
    "\n",
    "calificaciones = (8,7,9,51,561,651,65,165,1,61,65,165,1,651,965,48,91,8,41,654,9685,1,561,65,16,51,6,4,65,165,41,6,156,1,651,65,1,651,65,1,651,65,1,651,65,1,65,16,51,65,1,651,65,1,65,19) # Tiene 3 posiciones, comenzado en el 0. Largo de 3\n",
    "\n",
    "print(calificaciones)\n",
    "\n",
    "print( type(calificaciones) ) \n",
    "\n"
   ]
  },
  {
   "cell_type": "code",
   "execution_count": 10,
   "id": "ordinary-pickup",
   "metadata": {},
   "outputs": [
    {
     "name": "stdout",
     "output_type": "stream",
     "text": [
      "8\n",
      "7\n",
      "9\n"
     ]
    }
   ],
   "source": [
    "# vamos a acceder a cada dato\n",
    "\n",
    "calificacion1 = calificaciones[0]\n",
    "calificacion2 = calificaciones[1]\n",
    "calificacion3 = calificaciones[2]\n",
    "\n",
    "print(calificacion1)\n",
    "print(calificacion2)\n",
    "print(calificacion3)"
   ]
  },
  {
   "cell_type": "code",
   "execution_count": 20,
   "id": "express-external",
   "metadata": {},
   "outputs": [
    {
     "name": "stdout",
     "output_type": "stream",
     "text": [
      "8\n",
      "7\n",
      "9\n",
      "51\n",
      "561\n",
      "651\n",
      "65\n",
      "165\n",
      "1\n",
      "61\n",
      "65\n",
      "165\n",
      "1\n",
      "651\n",
      "965\n",
      "48\n",
      "91\n",
      "8\n",
      "41\n",
      "654\n",
      "9685\n",
      "1\n",
      "561\n",
      "65\n",
      "16\n",
      "51\n",
      "6\n",
      "4\n",
      "65\n",
      "165\n",
      "41\n",
      "6\n",
      "156\n",
      "1\n",
      "651\n",
      "65\n",
      "1\n",
      "651\n",
      "65\n",
      "1\n",
      "651\n",
      "65\n",
      "1\n",
      "651\n",
      "65\n",
      "1\n",
      "65\n",
      "16\n",
      "51\n",
      "65\n",
      "1\n",
      "651\n",
      "65\n",
      "1\n",
      "65\n",
      "19\n",
      "-------------------------\n",
      "8\n",
      "7\n",
      "9\n",
      "51\n",
      "561\n",
      "651\n",
      "65\n",
      "165\n",
      "1\n",
      "61\n",
      "65\n",
      "165\n",
      "1\n",
      "651\n",
      "965\n",
      "48\n",
      "91\n",
      "8\n",
      "41\n",
      "654\n",
      "9685\n",
      "1\n",
      "561\n",
      "65\n",
      "16\n",
      "51\n",
      "6\n",
      "4\n",
      "65\n",
      "165\n",
      "41\n",
      "6\n",
      "156\n",
      "1\n",
      "651\n",
      "65\n",
      "1\n",
      "651\n",
      "65\n",
      "1\n",
      "651\n",
      "65\n",
      "1\n",
      "651\n",
      "65\n",
      "1\n",
      "65\n",
      "16\n",
      "51\n",
      "65\n",
      "1\n",
      "651\n",
      "65\n",
      "1\n",
      "65\n",
      "19\n"
     ]
    }
   ],
   "source": [
    "# Recorriendo tuplas\n",
    "\n",
    "for calificacion in calificaciones:\n",
    "    print(calificacion)\n",
    "    \n",
    "print('-------------------------')\n",
    "\n",
    "contador = 0\n",
    "\n",
    "while contador < len(calificaciones):\n",
    "    calificacion = calificaciones[contador]\n",
    "    print(calificacion)\n",
    "    contador += 1"
   ]
  },
  {
   "cell_type": "markdown",
   "id": "excessive-titanium",
   "metadata": {},
   "source": [
    "## 2.10.2 Listas"
   ]
  },
  {
   "cell_type": "markdown",
   "id": "atlantic-tuning",
   "metadata": {},
   "source": [
    "## Eliminando elementos de la lista `del`"
   ]
  },
  {
   "cell_type": "markdown",
   "id": "subsequent-creativity",
   "metadata": {},
   "source": []
  },
  {
   "cell_type": "markdown",
   "id": "inclusive-times",
   "metadata": {},
   "source": []
  },
  {
   "cell_type": "markdown",
   "id": "chronic-assembly",
   "metadata": {},
   "source": []
  },
  {
   "cell_type": "markdown",
   "id": "surface-oxford",
   "metadata": {},
   "source": [
    "Realizado por Docente: [Alejandro Leyva](https://www.alejandro-leyva.com/)\n",
    "\n",
    "[Mecatrónica 85](https://mecatronica85.com/)\n",
    "\n",
    "[fb/mecatronica85](https://www.facebook.com/mecatronica85)"
   ]
  }
 ],
 "metadata": {
  "kernelspec": {
   "display_name": "Python 3",
   "language": "python",
   "name": "python3"
  },
  "language_info": {
   "codemirror_mode": {
    "name": "ipython",
    "version": 3
   },
   "file_extension": ".py",
   "mimetype": "text/x-python",
   "name": "python",
   "nbconvert_exporter": "python",
   "pygments_lexer": "ipython3",
   "version": "3.7.3"
  }
 },
 "nbformat": 4,
 "nbformat_minor": 5
}
