{
 "cells": [
  {
   "cell_type": "markdown",
   "id": "special-performance",
   "metadata": {},
   "source": [
    "![banner](../logo/banner.png)"
   ]
  },
  {
   "cell_type": "markdown",
   "id": "wicked-hampshire",
   "metadata": {},
   "source": [
    "# 3.1 Python y el microcontrolador"
   ]
  },
  {
   "cell_type": "markdown",
   "id": "parental-berlin",
   "metadata": {},
   "source": [
    "Existen varias formas de programar un microcontrolador o tarjeta electronica basadas en microcontroladores o microporcesadores. Hay microcontroladores que se pueden programar directamente con Python pero realmente es una reimplementacion del lenguaje que no contiene todas la librerias, llamada [MicroPython](https://micropython.org/) la cual es un interprete simplificado para microcontroladores.\n",
    "\n",
    "En nuestro caso usaremos directamente el lenguaje Python para el control de un microncontrolador atraves de un protocolo de comunicacion llamando [Firmata](https://github.com/firmata/protocol), por medio de este estandar se establecera comunicacion y control de una placa electronica."
   ]
  },
  {
   "cell_type": "markdown",
   "id": "featured-texture",
   "metadata": {},
   "source": [
    "## 3.1.1 "
   ]
  },
  {
   "cell_type": "markdown",
   "id": "understanding-tampa",
   "metadata": {},
   "source": []
  },
  {
   "cell_type": "markdown",
   "id": "external-scotland",
   "metadata": {},
   "source": []
  },
  {
   "cell_type": "markdown",
   "id": "excessive-titanium",
   "metadata": {},
   "source": []
  },
  {
   "cell_type": "markdown",
   "id": "surface-oxford",
   "metadata": {},
   "source": [
    "Realizado por Docente: [Alejandro Leyva](https://www.alejandro-leyva.com/)\n",
    "\n",
    "[Mecatrónica 85](https://mecatronica85.com/)\n",
    "\n",
    "[fb/mecatronica85](https://www.facebook.com/mecatronica85)"
   ]
  }
 ],
 "metadata": {
  "kernelspec": {
   "display_name": "Python 3",
   "language": "python",
   "name": "python3"
  },
  "language_info": {
   "codemirror_mode": {
    "name": "ipython",
    "version": 3
   },
   "file_extension": ".py",
   "mimetype": "text/x-python",
   "name": "python",
   "nbconvert_exporter": "python",
   "pygments_lexer": "ipython3",
   "version": "3.7.3"
  }
 },
 "nbformat": 4,
 "nbformat_minor": 5
}
