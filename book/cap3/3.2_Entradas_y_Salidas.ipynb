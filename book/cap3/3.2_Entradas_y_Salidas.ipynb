{
 "cells": [
  {
   "cell_type": "markdown",
   "id": "special-performance",
   "metadata": {},
   "source": [
    "![banner](../logo/banner.png)"
   ]
  },
  {
   "cell_type": "markdown",
   "id": "wicked-hampshire",
   "metadata": {},
   "source": [
    "# 3.2 Entradas y Salidas Digitales\n",
    "\n",
    "\n"
   ]
  },
  {
   "cell_type": "markdown",
   "id": "featured-texture",
   "metadata": {},
   "source": [
    "## 3.2.1 Salidas digitales\n",
    "\n",
    "Tenemos que dar las indicaciones para mandar a nivel alto las salidas del microcontrolador; es decir, mandar a un `nivel lógico 1` o `alto`, esto lo que hará será que a la salida del pin tenga un nivel de voltaje de `5V`, en caso de mandarlo a `0` o `bajo`, es equivalente a `0V`.\n",
    "\n",
    "\n",
    "Nivel lógico|Digital|Voltaje\n",
    ":-:|:-:|:-:\n",
    "0|Bajo|0V\n",
    "1|Alto|5V\n"
   ]
  },
  {
   "cell_type": "markdown",
   "id": "understanding-tampa",
   "metadata": {},
   "source": [
    "### 3.2.1.1 Retardos `sleep()`\n",
    "\n",
    "Para indicar en python un tiempo en donde no haga nada y una vez este termine continuar realizando lo indicado se utiliza la función `sleep()` de la libreria `time`.\n",
    "\n",
    "Paso 1. importar la libreria `time`\n",
    "Paso 2. Indicar el tiempo en segundos\n",
    "\n",
    "\n",
    "**Sintaxis:**\n",
    "\n",
    "```python\n",
    "    import time\n",
    "\n",
    "    time.sleep(segundo)\n",
    "```\n",
    "\n",
    "Documentación [time](https://docs.python.org/3/library/time.html)."
   ]
  },
  {
   "cell_type": "markdown",
   "id": "mental-flower",
   "metadata": {},
   "source": [
    "### 3.2.1.2 Configuracion básica para conectarnos a la Tarjeta\n",
    "\n",
    "Tenemos que mandar las indicaciones al microcontrolador para que active sus salidas digitales.\n",
    "\n",
    "Primero instalar la libreria [pyFirmata](https://pypi.org/project/pyFirmata/), tenemos que abrir la terminal y escribir el siguiente comando:\n",
    "\n",
    "```bash\n",
    "pip install pyFirmata\n",
    "```\n",
    "\n",
    "**En todo script de python debemos realizar lo siguiente cuando queremos utilizar el protocolo.**\n",
    "\n",
    "```python\n",
    "#importamos la libreria que nos permite conectarnos por el protocolo de firmata y Python\n",
    "from pyfirmata import Arduino\n",
    "\n",
    "# Declaramos una variable llamada \"board\" donde queda indicado que esta la placa conectada\n",
    "port = 'PUERTO' # declaro una variable donde coloco el puerto donde esta conectado\n",
    "board = Arduino(port)\n",
    "```"
   ]
  },
  {
   "cell_type": "markdown",
   "id": "interpreted-tribe",
   "metadata": {},
   "source": [
    "### 3.2.1.2 Accionando las Salidas\n",
    "\n",
    "Tenemos que mandar las indicaciones al microcontrolador para que active sus salidas digitales.\n",
    "\n",
    "*Nota: Nunca utilices los pines 0 e 1, porque son para la comunicación serial UART - USB*\n",
    "\n",
    "```python\n",
    "board.digital[NUMERO_PIN].write(1|0)\n",
    "```\n",
    "\n",
    "**Ejemplo: Aquí solo encendemos el pin 3**\n",
    "\n",
    "```python\n",
    "import pyfirmata    #importamos la libreria que nos permite conectarnos por el protocolo de firmata\n",
    "import time         # importamos la libreria de retardos\n",
    "\n",
    "# Indicamos el puerto donde se encuentra conectada la tarjeta electronica\n",
    "port = 'PUERTO'\n",
    "board = pyfirmata.Arduino(port) \n",
    "\n",
    "#se manda un nivel 1 a la salida del pin 3\n",
    "board.digital[3].write(1) \n",
    "```"
   ]
  },
  {
   "cell_type": "markdown",
   "id": "residential-wallet",
   "metadata": {},
   "source": [
    "**Ejemplo: Vamos a Encender y apagar un pin digital**\n",
    "\n",
    "```python\n",
    "from pyfirmata import Arduino    #importamos la libreria que nos permite conectarnos por el protocolo de firmata\n",
    "import time         # importamos la libreria de retardos\n",
    "\n",
    "# Indicamos el puerto donde se encuentra conectada la tarjeta electronica\n",
    "port = 'PUERTO'\n",
    "board = Arduino(port) \n",
    "\n",
    "board.digital[3].write(1) #se manda un nivel 1 a la salida del pin 3\n",
    "time.sleep(5)             #nos esperamos un sengundo\n",
    "board.digital[3].write(0) #se manda un nivel 0 a la salida del pin 3\n",
    "time.sleep(5)             #nos esperamos un sengundo\n",
    "board.digital[3].write(1) #se manda un nivel 1 a la salida del pin 3\n",
    "```\n",
    "\n",
    "TODO: descargar fritzing\n",
    "\n",
    "![circuito](./imgs/circuito_basic_1.png)"
   ]
  },
  {
   "cell_type": "code",
   "execution_count": null,
   "id": "uniform-arcade",
   "metadata": {},
   "outputs": [],
   "source": []
  },
  {
   "cell_type": "markdown",
   "id": "external-scotland",
   "metadata": {},
   "source": [
    "## Prácticas\n",
    "\n",
    "1. Blink\n",
    "2. Secuencia de luces\n",
    "3. Semaforo sencillo"
   ]
  },
  {
   "cell_type": "markdown",
   "id": "excessive-titanium",
   "metadata": {},
   "source": []
  },
  {
   "cell_type": "markdown",
   "id": "surface-oxford",
   "metadata": {},
   "source": [
    "Realizado por Docente: [Alejandro Leyva](https://www.alejandro-leyva.com/)\n",
    "\n",
    "[Mecatrónica 85](https://mecatronica85.com/)\n",
    "\n",
    "[fb/mecatronica85](https://www.facebook.com/mecatronica85)"
   ]
  }
 ],
 "metadata": {
  "kernelspec": {
   "display_name": "Python 3",
   "language": "python",
   "name": "python3"
  },
  "language_info": {
   "codemirror_mode": {
    "name": "ipython",
    "version": 3
   },
   "file_extension": ".py",
   "mimetype": "text/x-python",
   "name": "python",
   "nbconvert_exporter": "python",
   "pygments_lexer": "ipython3",
   "version": "3.7.3"
  }
 },
 "nbformat": 4,
 "nbformat_minor": 5
}
