{
 "cells": [
  {
   "cell_type": "markdown",
   "id": "funky-entrepreneur",
   "metadata": {},
   "source": [
    "# banner"
   ]
  },
  {
   "cell_type": "markdown",
   "id": "scientific-authentication",
   "metadata": {},
   "source": [
    "# 1.3 Variables"
   ]
  },
  {
   "cell_type": "markdown",
   "id": "durable-topic",
   "metadata": {},
   "source": [
    "## Que es una variable?"
   ]
  },
  {
   "cell_type": "markdown",
   "id": "optional-stomach",
   "metadata": {},
   "source": [
    "Una variable desde el punto de vista computacional es un espacio en memoria. \n",
    "Desde el punto de vista matematico es un referencia o un nombre para un valor que desconocemos y puede tomar cualquier valor.\n",
    "Entonces, que es al final, es una combinacion de ambas definiciones, es un espacio en memoria que puede almacenar un dato o datos, dependiento del tipo de variable o el tamaño de la variable."
   ]
  },
  {
   "cell_type": "markdown",
   "id": "superior-venture",
   "metadata": {},
   "source": [
    "## Qué es declarar una variable?"
   ]
  },
  {
   "cell_type": "markdown",
   "id": "robust-retirement",
   "metadata": {},
   "source": [
    "**La declaración de una variable es reservar un espacio en memoria de la computadora**.\n",
    "La computadora tiene cierta cantandidad de memoria, la cual es repartida entre todos los programas y los propios procesos para ejecutar el sistema operativo. Cuando ejecutamos un programa, éste comienza reservar memoria para poder trabajar.\n",
    "Entonces, al declarar variables estamos consumiendo memoria, la cual vamos a utilizar en algun momento, si estamos reservando el espacio significa que en algun otro momento necesitamos recuperar lo que hemos guardado para realizar otra operación, de lo contrario no necesitamos reservar memoria si el valor solo será utilizado una unica vez."
   ]
  },
  {
   "cell_type": "markdown",
   "id": "aerial-wisdom",
   "metadata": {},
   "source": [
    "## Cómo nombrar una variable?\n",
    "\n",
    "Dentro de la programación existen **buenas practicas** para declarar variables. Estas reglas se definen a lo largo del tiempo que ha evolucionado. Estas son las reglas genericas para (casi) todos lenguajes. \n",
    "\n",
    "- Deben comenzar en minúscula\n",
    "- Se escriben en minúsculas, las variantes se dan cuando son más de dos palabras.\n",
    "- Solo puede contener numeros al final.\n",
    "- Sensibles a minúsculas y mayúsculas; es decir, si declaro una variable llamada `variable1` y otra llamada `Variable1`, para la computadora son variables o espacios de memoria distintos, aun que suenen igual, con el solo hecho de cambiar una letra, ya estamos hablando de una variable distinta.\n",
    "- No pueden contener espacios entre letras o palabras\n",
    "- No puede comenzar con números o símbolos\n",
    "- No puede contener carácteres especiales, todos son caracteres especiales menos el abecedario ingles. Ejemplo: !\"·$%&&/()=?¿...\n",
    "- **El nombre debe ser descriptivo**; es decir, con solo leerlo podemos deducir qué hace o para qué fue declarada\n",
    "- *(Regla especial)*: Si se desea escribir una variable combinando dos palabras o más, se separarán con un guíon bajo (_).\n",
    "- Ejemplos:\n",
    "    - `valor`\n",
    "    - `valor1`\n",
    "    - `valor_uno`\n",
    "    - `valor_1`\n",
    "\n",
    "Las convenciones de Camel Case y Snake Case no las menciona por el momento, porque aplican en función de un lenguale enconcreto, hasta el momento esto aplicará para diagramas de flujo, lo cual es algo generico y base."
   ]
  },
  {
   "cell_type": "markdown",
   "id": "herbal-celtic",
   "metadata": {},
   "source": [
    "Realizado por Docente: [Alejandro Leyva](https://www.alejandro-leyva.com/)\n",
    "\n",
    "[Mecatrónica 85](https://mecatronica85.com/)\n",
    "\n",
    "[fb/mecatronica85](https://www.facebook.com/mecatronica85)"
   ]
  }
 ],
 "metadata": {
  "kernelspec": {
   "display_name": "Python 3",
   "language": "python",
   "name": "python3"
  },
  "language_info": {
   "codemirror_mode": {
    "name": "ipython",
    "version": 3
   },
   "file_extension": ".py",
   "mimetype": "text/x-python",
   "name": "python",
   "nbconvert_exporter": "python",
   "pygments_lexer": "ipython3",
   "version": "3.7.3"
  }
 },
 "nbformat": 4,
 "nbformat_minor": 5
}
