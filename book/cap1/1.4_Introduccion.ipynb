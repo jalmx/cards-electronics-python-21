{
 "cells": [
  {
   "cell_type": "markdown",
   "id": "adopted-surrey",
   "metadata": {},
   "source": [
    "![banner](../logo/banner.png)"
   ]
  },
  {
   "cell_type": "markdown",
   "id": "powered-london",
   "metadata": {},
   "source": [
    "# 1.4 Introduccion a creacion de Diagrmas de flujo\n",
    "\n",
    "Aqui comenzaremos a construir diagramas de flujo basicos. Construidos parte por parte."
   ]
  },
  {
   "cell_type": "markdown",
   "id": "olive-karma",
   "metadata": {},
   "source": [
    "**1. Se debe realizar un diagrama de flujo que sume 2 numeros enteros, estos numeros deben estar almacenados en memoria; es decir, en variables. El resultado enviarlo a la pantalla.**\n",
    "\n",
    "Con base a las instrucciones, entendemos que los valores pueden ser cuales quiera, deben estar almacenados en el programa."
   ]
  },
  {
   "cell_type": "markdown",
   "id": "upper-amateur",
   "metadata": {},
   "source": [
    "Primero debemos comenzar con el simbolo de *INICIO*\n",
    "\n",
    "![part1](ejemplo1/e1_p0.png)"
   ]
  },
  {
   "cell_type": "markdown",
   "id": "copyrighted-father",
   "metadata": {},
   "source": [
    "Tomando las instrucciones nos dice que debemos tomar definir un valor, el que nosotros querramos, en memoria para sumarlo con otro, por lo tanto, aplicamos un proceso declarando la primera variable `variable1` y le asignamos un valor; en esta caso le asignamos el valor de `10`. El simbolo de `Proceso` (Rectangulo) se usa para realizar una operacion matematica, asignacion de valor a una variable o declaracion de una variable.\n",
    "\n",
    "*Se utiliza el signo de igual (=) para asignacion de un valor a una variable.*\n",
    "\n",
    "![part1](ejemplo1/e1_p1.png)"
   ]
  },
  {
   "cell_type": "markdown",
   "id": "compatible-grenada",
   "metadata": {},
   "source": [
    "Ahora debemos declarar otro variable, en este caso la llamaremos `valor2`, recordemos que el nombre de la variable es el que escojamos. *En una seccion previa se indican las reglas para declaracion de variables*.\n",
    "A nuestra variable `variable2` le asignamos el valor de `5`. Como estamos realizando una asignacion de un valor a una varialbe, utilizamos el simbolo de `Proceso` (Rectangulo).\n",
    "\n",
    "![part1](ejemplo1/e1_p2.png)"
   ]
  },
  {
   "cell_type": "markdown",
   "id": "decreased-acoustic",
   "metadata": {},
   "source": [
    "Acto seguido es realizar la operacion aritmetica de suma. Para ello esto lo realizamos en un `Proceso` y lo guardamos en una variable llamada `suma`.\n",
    "\n",
    "![suma](./ejemplo1/e1_p3.png)"
   ]
  },
  {
   "cell_type": "markdown",
   "id": "supreme-sleeve",
   "metadata": {},
   "source": [
    "Ya que tenemos el resultado guardado en la variable `suma`, lo mandaremos a la pantalla (Display).\n",
    "\n",
    "![resultado](./ejemplo1/e1_p4.png)"
   ]
  },
  {
   "cell_type": "markdown",
   "id": "hired-creek",
   "metadata": {},
   "source": [
    "Hemos terminado de realizar lo solicitado, por lo tanto, debemos terminar nuestro diagrama de flujo, con el simbolo de `FIN`\n",
    "\n",
    "![resultado](./ejemplo1/e1_p5.png)"
   ]
  },
  {
   "cell_type": "markdown",
   "id": "loved-nurse",
   "metadata": {},
   "source": [
    "**2. Realizar la suma de dos números enteros, solicitandolos al usuario y al final imprimir por pantalla el resultado.**\n",
    "\n",
    "Con base a las instrucciones debemos solicitar al usuario los números, pero primero le tenemos que indicar que debe hacer, y debemos guardar este valor en una variable cada uno para poder realizar la operación correspondiente."
   ]
  },
  {
   "cell_type": "markdown",
   "id": "introductory-islam",
   "metadata": {},
   "source": [
    "Como todo diagrama de flujo comenzamos con el símbolo de *INICIO*\n",
    "\n",
    "![inicio](./ejemplo2/e1_p1.png)"
   ]
  },
  {
   "cell_type": "markdown",
   "id": "boring-responsibility",
   "metadata": {},
   "source": [
    "Tenemos que indicarle al usuario qué debe realizar, para realizar esto debemos utilizar el simbolo para enviar mensajes a la pantalla con el mensaje. *Los textos que queremos que se muestre debe ir entre doble comilla `\" \"`*. El mensaje que mostraremos es `\"Dar el primer número entero\"`\n",
    "\n",
    "![inicio](./ejemplo2/e1_p2.png)"
   ]
  },
  {
   "cell_type": "markdown",
   "id": "future-april",
   "metadata": {},
   "source": [
    "Ahora debemos recibir el dato que el usuario quiere ingresar, este número lo debemos guardar en algun lado, por lo tanto, declaramos una variable dentro del símbolo que es para ingresar datos. La variable la llamamos `variable1`\n",
    "\n",
    "![inicio](./ejemplo2/e1_p3.png)"
   ]
  },
  {
   "cell_type": "markdown",
   "id": "exterior-choice",
   "metadata": {},
   "source": [
    "Ya que tenemos el primer valor, debemos solicitar al segundo valor, para ello debemos mandar el segundo mensaje indicandole al usuario qué debe realizar, el mensaje será `\"Dar el segundo número entero\"` dentro del símbolo de `Display`\n",
    "\n",
    "![inicio](./ejemplo2/e1_p4.png)"
   ]
  },
  {
   "cell_type": "markdown",
   "id": "possible-aquarium",
   "metadata": {},
   "source": [
    "Debemos recibir el siguiente valor y almacenarlo en otra variable, la llamaremos `valor2`, para poder ingresar el valor a esta variable tenemos que ocupar el símbolo de entrada de datos.\n",
    "\n",
    "![inicio](./ejemplo2/e1_p5.png)\n",
    "\n"
   ]
  },
  {
   "cell_type": "markdown",
   "id": "patent-fossil",
   "metadata": {},
   "source": [
    "Contamos con los valores que ingreso el usuario en las variables `valor1` y `valor2`, ahora debemos realizar la operación y la guardaremos en la variable `suma`.\n",
    "\n",
    "![inicio](./ejemplo2/e1_p6.png)"
   ]
  },
  {
   "cell_type": "markdown",
   "id": "technical-mailman",
   "metadata": {},
   "source": [
    "El resultado de la operación esta almacenada en la variable `suma`, la debemos envíar a la pantalla, tenemos que usar el símbolo de `Display`, la variable\n",
    "\n",
    "![inicio](./ejemplo2/e1_p7.png)"
   ]
  },
  {
   "cell_type": "markdown",
   "id": "understanding-grain",
   "metadata": {},
   "source": [
    "Hemos terminado lo que nos fue solicitado, por lo tanto, solo nos queda finalizar el diagrama de flujo con *FIN*\n",
    "\n",
    "![inicio](./ejemplo2/e1_p8.png)"
   ]
  },
  {
   "cell_type": "markdown",
   "id": "grave-tract",
   "metadata": {},
   "source": [
    "Realizado por Docente: [Alejandro Leyva](https://www.alejandro-leyva.com/)\n",
    "\n",
    "[Mecatrónica 85](https://mecatronica85.com/)\n",
    "\n",
    "[fb/mecatronica85](https://www.facebook.com/mecatronica85)"
   ]
  }
 ],
 "metadata": {
  "kernelspec": {
   "display_name": "Python 3",
   "language": "python",
   "name": "python3"
  },
  "language_info": {
   "codemirror_mode": {
    "name": "ipython",
    "version": 3
   },
   "file_extension": ".py",
   "mimetype": "text/x-python",
   "name": "python",
   "nbconvert_exporter": "python",
   "pygments_lexer": "ipython3",
   "version": "3.7.3"
  }
 },
 "nbformat": 4,
 "nbformat_minor": 5
}
