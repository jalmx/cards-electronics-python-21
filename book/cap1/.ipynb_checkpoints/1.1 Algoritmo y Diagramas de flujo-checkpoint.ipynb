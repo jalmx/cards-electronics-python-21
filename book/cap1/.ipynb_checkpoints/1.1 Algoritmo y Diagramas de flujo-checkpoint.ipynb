{
 "cells": [
  {
   "cell_type": "markdown",
   "id": "south-music",
   "metadata": {},
   "source": [
    "![banner](../logo/banner.png)"
   ]
  },
  {
   "cell_type": "markdown",
   "id": "overall-hours",
   "metadata": {},
   "source": [
    "# Algoritmos y Diagramas flujo\n",
    "\n",
    "**Algoritmo:** Es una secuencia de pasos logicos, finitos, para resolver un problema\n",
    "\n",
    "**Diagrama de flujo:** Es una representación gráfica de un algoritmo"
   ]
  },
  {
   "cell_type": "markdown",
   "id": "ultimate-replacement",
   "metadata": {},
   "source": [
    "## Simbología de Digrama de flujos\n"
   ]
  },
  {
   "cell_type": "markdown",
   "id": "horizontal-hazard",
   "metadata": {},
   "source": [
    "Nombre|Símbolo\n",
    ":-:|:-:\n",
    "Inicio/Fin| ![simbolo](1.jpg)\n",
    "Proceso u Operación| ![simbolo](2.jpg)\n",
    "Entrada/Salida de datos| ![simbolo](4.jpg)\n",
    "Decisión| ![simbolo](5.jpg)\n",
    "Display| ![simbolo](6.jpg)\n",
    "Documento| ![simbolo](8.jpg)\n",
    "Líneas de flujo| ![simbolo](7.jpg)\n",
    "Conector en misma página| ![simbolo](3.jpg)\n",
    "Conector a otro página| ![simbolo](9.jpg)\n"
   ]
  },
  {
   "cell_type": "markdown",
   "id": "accredited-closing",
   "metadata": {},
   "source": [
    "## Ejemplo de Diagrama de flujo\n",
    "\n",
    "Aquí se muestra un diagrama de flujo que realiza el cálculo del area de un triángulo.\n",
    "\n",
    "![Diagrama de flujo ejemplo](ejemplo.jpg)\n"
   ]
  },
  {
   "cell_type": "markdown",
   "id": "hundred-victorian",
   "metadata": {},
   "source": [
    "Realizado por Docente: [Alejandro Leyva](https://www.alejandro-leyva.com/)\n",
    "\n",
    "[Mecatrónica 85](https://mecatronica85.com/)\n",
    "\n",
    "[fb/mecatronica85](https://www.facebook.com/mecatronica85)"
   ]
  }
 ],
 "metadata": {
  "kernelspec": {
   "display_name": "Python 3",
   "language": "python",
   "name": "python3"
  },
  "language_info": {
   "codemirror_mode": {
    "name": "ipython",
    "version": 3
   },
   "file_extension": ".py",
   "mimetype": "text/x-python",
   "name": "python",
   "nbconvert_exporter": "python",
   "pygments_lexer": "ipython3",
   "version": "3.7.3"
  }
 },
 "nbformat": 4,
 "nbformat_minor": 5
}
