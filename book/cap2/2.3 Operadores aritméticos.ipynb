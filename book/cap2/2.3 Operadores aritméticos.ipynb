{
 "cells": [
  {
   "cell_type": "markdown",
   "id": "special-performance",
   "metadata": {},
   "source": [
    "![banner](../logo/banner.png)"
   ]
  },
  {
   "cell_type": "markdown",
   "id": "wicked-hampshire",
   "metadata": {},
   "source": [
    "# 2.3 Operadores aritméticos\n",
    "\n",
    "En Python contamos con varios operadores aritméticos."
   ]
  },
  {
   "cell_type": "markdown",
   "id": "featured-texture",
   "metadata": {},
   "source": [
    "Nombre| Símbolo| Ejemplo\n",
    ":-|:-:|-\n",
    "Suma| + | 4 + 2\n",
    "Resta| - | 4 - 5\n",
    "Negación| - | -2\n",
    "Multiplicación| * | 6 * 8\n",
    "División| / | 1 / 2\n",
    "División entera| // | 5 // 3\n",
    "Exponente| ** | 4\\**2\n",
    "Módulo| % | 5 % 2"
   ]
  },
  {
   "cell_type": "code",
   "execution_count": null,
   "id": "confidential-shock",
   "metadata": {},
   "outputs": [],
   "source": [
    "print(\"Suma\")\n",
    "print( 4 + 2)\n",
    "print(\"-------\")\n",
    "print(\"Resta\")\n",
    "print( 4 - 2)\n",
    "print(\"-------\")\n",
    "print(\"Negación\")\n",
    "print( -2)\n",
    "print(\"-------\")\n",
    "print(\"Multiplicación\")\n",
    "print( 4 * 2)\n",
    "print(\"-------\")\n",
    "print(\"División\")\n",
    "print( 1/2)\n",
    "print(\"-------\")\n",
    "print(\"División entera\")\n",
    "print( 10//3)\n",
    "print(\"-------\")\n",
    "print(\"Exponente\")\n",
    "print( 3**2)\n",
    "print(\"-------\")\n",
    "print(\"Módulo\")\n",
    "print(10%3)"
   ]
  },
  {
   "cell_type": "markdown",
   "id": "understanding-tampa",
   "metadata": {},
   "source": [
    "## 2.3.1 Precedencia de operadores"
   ]
  },
  {
   "cell_type": "markdown",
   "id": "external-scotland",
   "metadata": {},
   "source": [
    "El orden de precedencia de ejecución de los operadores aritméticos es:\n",
    "\n",
    "Orden| Operador\n",
    ":-|:-|\n",
    "0. Agrupación ( )\n",
    "1. Exponente \\**\n",
    "2. Negación -\n",
    "3. Multiplicación, División, División entera, Módulo *, /, //, %\n",
    "4. Suma, Resta +, -\n"
   ]
  },
  {
   "cell_type": "markdown",
   "id": "ranging-movement",
   "metadata": {},
   "source": [
    "## Ejemplos:\n",
    "\n",
    "Convertir la expresion algebraica a una espresion computable\n",
    "\n",
    "1. $\\frac{2-3}{20}$\n",
    "2. $3 \\times \\frac{1}{2} + 8$\n",
    "3. $3^2 + 6^3 - \\frac{5}{10}$\n",
    "3. $\\frac{5 + 6 \\times 9}{6 \\times 1} + 3 - \\frac{8}{2} $\n",
    "\n"
   ]
  },
  {
   "cell_type": "markdown",
   "id": "excessive-titanium",
   "metadata": {},
   "source": [
    "## Ejercicios"
   ]
  },
  {
   "cell_type": "markdown",
   "id": "preliminary-parks",
   "metadata": {},
   "source": [
    "Guardar en una variable el resultado de la operacion e imprimir por consola el resultado de las siguientes operaciones:\n",
    "\n",
    "1. $\\frac{5 + 8}{2}$\n",
    "2. $\\frac{5 }{2} + 3$\n",
    "3. $5 + \\frac{1}{2} \\times 6$\n",
    "4. $5^2$\n",
    "5. $3 + \\frac{1}{2} \\times \\frac{5}{-2}$"
   ]
  },
  {
   "cell_type": "markdown",
   "id": "surface-oxford",
   "metadata": {},
   "source": [
    "Realizado por Docente: [Alejandro Leyva](https://www.alejandro-leyva.com/)\n",
    "\n",
    "[Mecatrónica 85](https://mecatronica85.com/)\n",
    "\n",
    "[fb/mecatronica85](https://www.facebook.com/mecatronica85)"
   ]
  }
 ],
 "metadata": {
  "kernelspec": {
   "display_name": "Python 3",
   "language": "python",
   "name": "python3"
  },
  "language_info": {
   "codemirror_mode": {
    "name": "ipython",
    "version": 3
   },
   "file_extension": ".py",
   "mimetype": "text/x-python",
   "name": "python",
   "nbconvert_exporter": "python",
   "pygments_lexer": "ipython3",
   "version": "3.7.3"
  }
 },
 "nbformat": 4,
 "nbformat_minor": 5
}
