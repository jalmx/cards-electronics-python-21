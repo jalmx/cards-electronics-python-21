{
 "cells": [
  {
   "cell_type": "markdown",
   "id": "adopted-surrey",
   "metadata": {},
   "source": [
    "# banner"
   ]
  },
  {
   "cell_type": "markdown",
   "id": "powered-london",
   "metadata": {},
   "source": [
    "# 1.3 Introduccion a creacion de Diagrmas de flujo\n",
    "\n",
    "Aqui comenzaremos a construir diagramas de flujo basicos. Construidos parte por parte."
   ]
  },
  {
   "cell_type": "markdown",
   "id": "olive-karma",
   "metadata": {},
   "source": [
    "**Se debe realizar un diagrama de flujo que sume 2 numeros enteros, estos numeros deben estar almacenados en memoria; es decir, en variables.**\n",
    "\n",
    "Con base a las instrucciones, entendemos que los valores pueden ser cuales quiera, deben estar almacenados en el programa."
   ]
  },
  {
   "cell_type": "markdown",
   "id": "upper-amateur",
   "metadata": {},
   "source": [
    "Primero debemos comenzar con el simbolo de *INICIO*\n",
    "\n",
    "![part1](ejemplo1/e1_p0.png)"
   ]
  },
  {
   "cell_type": "markdown",
   "id": "copyrighted-father",
   "metadata": {},
   "source": [
    "Ahora debemos pedir al usuario el dato, entonces mandamos un mensaje a la pantalla\n",
    "\n",
    "![part1](ejemplo1/e1_p1.png)"
   ]
  },
  {
   "cell_type": "markdown",
   "id": "compatible-grenada",
   "metadata": {},
   "source": [
    "Ahora que el usuario vea el mensa\n",
    "\n",
    "![part1](ejemplo1/e1_p2.png)"
   ]
  },
  {
   "cell_type": "code",
   "execution_count": null,
   "id": "champion-prefix",
   "metadata": {},
   "outputs": [],
   "source": []
  },
  {
   "cell_type": "code",
   "execution_count": null,
   "id": "duplicate-collection",
   "metadata": {},
   "outputs": [],
   "source": []
  }
 ],
 "metadata": {
  "kernelspec": {
   "display_name": "Python 3",
   "language": "python",
   "name": "python3"
  },
  "language_info": {
   "codemirror_mode": {
    "name": "ipython",
    "version": 3
   },
   "file_extension": ".py",
   "mimetype": "text/x-python",
   "name": "python",
   "nbconvert_exporter": "python",
   "pygments_lexer": "ipython3",
   "version": "3.7.3"
  }
 },
 "nbformat": 4,
 "nbformat_minor": 5
}
