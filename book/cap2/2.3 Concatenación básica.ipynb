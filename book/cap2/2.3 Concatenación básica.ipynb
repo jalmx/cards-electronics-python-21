{
 "cells": [
  {
   "cell_type": "markdown",
   "id": "hawaiian-division",
   "metadata": {},
   "source": [
    "![banner](../logo/banner.png)"
   ]
  },
  {
   "cell_type": "markdown",
   "id": "specified-token",
   "metadata": {},
   "source": [
    "# 2.3 Concatenación básica\n",
    "\n",
    "La concatenación es el poder agrupar, juntar, unir, fusionar, pegar cadenas de caracteres, es decir, \"sumar\" varios string para formar uno solo.\n",
    "\n",
    "La concatenación es realiza con el símbolo del signo más `+`. \n"
   ]
  },
  {
   "cell_type": "markdown",
   "id": "opening-trailer",
   "metadata": {},
   "source": [
    "## 2.3.1 Concatenando\n",
    "\n",
    "Tenemos variables tipo `str` en donde guardamos texto.\n",
    "\n",
    "**Ejemplo**"
   ]
  },
  {
   "cell_type": "code",
   "execution_count": 1,
   "id": "capable-dimension",
   "metadata": {},
   "outputs": [
    {
     "name": "stdout",
     "output_type": "stream",
     "text": [
      "La mejor especialidad es: Mecatronica\n",
      "La mejor especialidad es: Mecatronica\n"
     ]
    }
   ],
   "source": [
    "frase = \"La mejor especialidad es: \"\n",
    "nombre = \"Mecatronica\"\n",
    "\n",
    "frase_completa = frase + nombre\n",
    "\n",
    "print(frase + nombre)\n",
    "print(frase_completa)"
   ]
  },
  {
   "cell_type": "markdown",
   "id": "enhanced-olympus",
   "metadata": {},
   "source": [
    "## 2.3.2 Función `str()`\n",
    "\n",
    "En la concatenación básica solo se pueden concatenar tipos `str`, por lo tanto, si necesitamos hacer un paso previo para que el tipo de dato que no sea `str` se convierta a este tipo. Para ello contamos con función `str()` la cual realiza ese trabajo. \n",
    "\n",
    "La sintaxis es:\n",
    "\n",
    "```python\n",
    "str(object, encoding=encoding, errors=errors)\n",
    "```\n",
    "**Parámetros:**\n",
    "\n",
    "- `object\tCualquier tipo de objeto`\n",
    "- `encoding\tEl encoding del objeto. Por default es UTF-8`\n",
    "- `errors\tEspecifica que si hay un error en el encoding, que debe hacer`\n",
    "- `return: Regresa el dato en tipo str : (str)`"
   ]
  },
  {
   "cell_type": "markdown",
   "id": "defensive-career",
   "metadata": {},
   "source": [
    "Entonces, si tenemos un tipo `int`, `float` o `boolean` primero debemos convertirlos a tipo `str`.\n",
    "\n",
    "**Ejemplo:**\n",
    "\n",
    "```python\n",
    "frase = \"Mi edad es: \"\n",
    "edad = 25\n",
    "edad_str = str(25)\n",
    "\n",
    "print(frase + edad)\n",
    "\n",
    "```"
   ]
  },
  {
   "cell_type": "markdown",
   "id": "familiar-socket",
   "metadata": {},
   "source": [
    "## 2.3.3 Concatenando otros tipos de datos.\n",
    "\n",
    "Si queremos hacer una concatenación directa entre un tipo `str` y otro tipo de dato, nos saldrá un error de tipo, indicando que no se puede concatenar `str` con alguno otro tipo. \n",
    "Como se muestra a continuación:"
   ]
  },
  {
   "cell_type": "code",
   "execution_count": 2,
   "id": "swedish-latest",
   "metadata": {},
   "outputs": [
    {
     "ename": "TypeError",
     "evalue": "can only concatenate str (not \"int\") to str",
     "output_type": "error",
     "traceback": [
      "\u001b[0;31m---------------------------------------------------------------------------\u001b[0m",
      "\u001b[0;31mTypeError\u001b[0m                                 Traceback (most recent call last)",
      "\u001b[0;32m<ipython-input-2-fb8333b91b59>\u001b[0m in \u001b[0;36m<module>\u001b[0;34m\u001b[0m\n\u001b[0;32m----> 1\u001b[0;31m \u001b[0mprint\u001b[0m\u001b[0;34m(\u001b[0m\u001b[0;34m\"Mi edad es: \"\u001b[0m \u001b[0;34m+\u001b[0m \u001b[0;36m25\u001b[0m\u001b[0;34m)\u001b[0m\u001b[0;34m\u001b[0m\u001b[0;34m\u001b[0m\u001b[0m\n\u001b[0m",
      "\u001b[0;31mTypeError\u001b[0m: can only concatenate str (not \"int\") to str"
     ]
    }
   ],
   "source": [
    "print(\"Mi edad es: \" + 25)"
   ]
  },
  {
   "cell_type": "markdown",
   "id": "related-gates",
   "metadata": {},
   "source": [
    "Por lo tanto, debemos hacer esa conversión previa a la concatenación. \n",
    "Existen dos formas, tomamos el valor, realizamos la conversión y se guarda en otra variable o la forma directa.\n",
    "\n",
    "**Ejemplo:**"
   ]
  },
  {
   "cell_type": "code",
   "execution_count": null,
   "id": "surrounded-designation",
   "metadata": {},
   "outputs": [],
   "source": [
    "#Por partes\n",
    "frase = \"Mi edad es: \"\n",
    "edad = 25\n",
    "edad_str = str(25)\n",
    "\n",
    "print(frase + edad_str)\n",
    "print(\"Mi edad es: \" + edad_str)"
   ]
  },
  {
   "cell_type": "markdown",
   "id": "confirmed-montreal",
   "metadata": {},
   "source": [
    "*Vamos a realizar una combinación básica entre los tipos de datos básicos*\n"
   ]
  },
  {
   "cell_type": "code",
   "execution_count": 5,
   "id": "soviet-still",
   "metadata": {},
   "outputs": [
    {
     "name": "stdout",
     "output_type": "stream",
     "text": [
      "Mi nombre es Alejandro, mi edad es de 25 anios,tengo una altura de 1.68 mi estado de casado es: False\n",
      "Mi nombre es Alejandro, mi edad es de 25 anios,tengo una altura de 1.68 mi estado de casado es: False\n"
     ]
    }
   ],
   "source": [
    "# Declaro las variables\n",
    "edad = 25\n",
    "altura = 1.68\n",
    "nombre = \"Alejandro\"\n",
    "casado = False\n",
    "\n",
    "#Las convierto a tipo str\n",
    "\n",
    "edad_str = str(edad)\n",
    "altura_str = str(altura)\n",
    "casado_str = str(casado)\n",
    "\n",
    "print(\"Mi nombre es \" + nombre + \", mi edad es de \" + edad_str + \" anios,\" + \"tengo una altura de \" + \n",
    "      altura_str + \" mi estado de casado es: \" + casado_str ) \n",
    "\n",
    "print(\"Mi nombre es \" + nombre + \", mi edad es de \" + str(edad) + \" anios,\" + \"tengo una altura de \" + \n",
    "      str(altura) + \" mi estado de casado es: \" + str(casado))\n"
   ]
  },
  {
   "cell_type": "markdown",
   "id": "prompt-stranger",
   "metadata": {},
   "source": [
    "Realizado por Docente: [Alejandro Leyva](https://www.alejandro-leyva.com/)\n",
    "\n",
    "[Mecatrónica 85](https://mecatronica85.com/)\n",
    "\n",
    "[fb/mecatronica85](https://www.facebook.com/mecatronica85)"
   ]
  }
 ],
 "metadata": {
  "kernelspec": {
   "display_name": "Python 3",
   "language": "python",
   "name": "python3"
  },
  "language_info": {
   "codemirror_mode": {
    "name": "ipython",
    "version": 3
   },
   "file_extension": ".py",
   "mimetype": "text/x-python",
   "name": "python",
   "nbconvert_exporter": "python",
   "pygments_lexer": "ipython3",
   "version": "3.7.3"
  },
  "widgets": {
   "application/vnd.jupyter.widget-state+json": {
    "state": {},
    "version_major": 2,
    "version_minor": 0
   }
  }
 },
 "nbformat": 4,
 "nbformat_minor": 5
}
