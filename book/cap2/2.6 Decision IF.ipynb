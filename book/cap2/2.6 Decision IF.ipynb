{
 "cells": [
  {
   "cell_type": "markdown",
   "id": "special-performance",
   "metadata": {},
   "source": [
    "![banner](../logo/banner.png)"
   ]
  },
  {
   "cell_type": "markdown",
   "id": "wicked-hampshire",
   "metadata": {},
   "source": [
    "# 2.3 Decisiones \n",
    "\n",
    "## 2.3.1 ¿Qué es una estructura de decisión? `IF`\n",
    "\n",
    "Dentro de la programación tenemos una estructura que nos ayuda a poder tomar decisiones con base a una comparación y de esta manera poder tomar un camino o tomar otro. Es una sentencia `IF` la cual no ayuda a tomar la ruta que necesitemos\n"
   ]
  },
  {
   "cell_type": "markdown",
   "id": "featured-texture",
   "metadata": {},
   "source": [
    "## 2.3.2 Estructura `if`\n",
    "\n",
    "Python la única referencia que ocupa es la edentación, sean `espacios` o `tabs` y dos puntos `:` para indicar que comienza un bloque nuevo.\n",
    "\n",
    "```python\n",
    "if comparacion_verdadera :\n",
    "    codigo\n",
    "    más codigo\n",
    "    ...\n",
    "```"
   ]
  },
  {
   "cell_type": "markdown",
   "id": "understanding-tampa",
   "metadata": {},
   "source": [
    "## 2.3.3 Operadores de comparación\n",
    "\n",
    "Nombre | Símbolo | Ejemplo\n",
    ":-|:-:|:-\n",
    "Mayor que | `>` | `7 > 5 -> True`\n",
    "Mayor o igual que | `>=` | `8 >= 6 -> False`\n",
    "Menor que | `<` | ` 9 < 10  -> Falso`\n",
    "Menor o igual que | `<=` | ` 5 <= 5 -> True`\n",
    "Igual que | `==` | ` 4 == 2 -> False`\n",
    "Diferente de | `!=` | ` 9 != 9 -> False`\n",
    "\n",
    "*Nota: No puede existir espacio en el símbolo*\n"
   ]
  },
  {
   "cell_type": "markdown",
   "id": "external-scotland",
   "metadata": {},
   "source": [
    "## 2.3.4 Aplicando la estructura `if`\n",
    "\n",
    "Vamos a realizar el primer ejemplo:\n",
    "\n",
    "**Realizar un programa que nos diga si la edad de la persona es mayor de edad o menor de edad**\n",
    "\n",
    "Debemos comparar la edad para saber si es mayor o no, primero verificamos si es mayor de edad, en caso de que no sea así, el programa sigue y pregunta si es menor de edad, en caso de que sea verdadero, entra y da el mensaje correspondiente."
   ]
  },
  {
   "cell_type": "code",
   "execution_count": 1,
   "id": "imposed-nothing",
   "metadata": {},
   "outputs": [
    {
     "name": "stdout",
     "output_type": "stream",
     "text": [
      "Es mayor de edad\n"
     ]
    }
   ],
   "source": [
    "edad = 18 #Declaramos una variable donde guardaremos la edad \n",
    "\n",
    "if edad >= 18:  # recordemos que se hace una comparacion y despues los dos puntos (:)\n",
    "    print(\"Es mayor de edad\")   #Recordemos que se debe aplicar una identacion\n",
    "    \n",
    "if edad < 18:    # recordemos que se hace una comparacion y despues los dos puntos (:)\n",
    "    print(\"Es menor de edad\") #Recordemos que se debe aplicar una identacion"
   ]
  },
  {
   "cell_type": "markdown",
   "id": "combined-israel",
   "metadata": {},
   "source": []
  },
  {
   "cell_type": "markdown",
   "id": "protected-crack",
   "metadata": {},
   "source": []
  },
  {
   "cell_type": "markdown",
   "id": "robust-armor",
   "metadata": {},
   "source": []
  },
  {
   "cell_type": "markdown",
   "id": "prompt-buffalo",
   "metadata": {},
   "source": []
  },
  {
   "cell_type": "markdown",
   "id": "basic-opera",
   "metadata": {},
   "source": []
  },
  {
   "cell_type": "markdown",
   "id": "corresponding-pacific",
   "metadata": {},
   "source": []
  },
  {
   "cell_type": "markdown",
   "id": "determined-collective",
   "metadata": {},
   "source": []
  },
  {
   "cell_type": "markdown",
   "id": "upper-collection",
   "metadata": {},
   "source": []
  },
  {
   "cell_type": "markdown",
   "id": "excessive-titanium",
   "metadata": {},
   "source": []
  },
  {
   "cell_type": "markdown",
   "id": "surface-oxford",
   "metadata": {},
   "source": [
    "Realizado por Docente: [Alejandro Leyva](https://www.alejandro-leyva.com/)\n",
    "\n",
    "[Mecatrónica 85](https://mecatronica85.com/)\n",
    "\n",
    "[fb/mecatronica85](https://www.facebook.com/mecatronica85)"
   ]
  }
 ],
 "metadata": {
  "kernelspec": {
   "display_name": "Python 3",
   "language": "python",
   "name": "python3"
  },
  "language_info": {
   "codemirror_mode": {
    "name": "ipython",
    "version": 3
   },
   "file_extension": ".py",
   "mimetype": "text/x-python",
   "name": "python",
   "nbconvert_exporter": "python",
   "pygments_lexer": "ipython3",
   "version": "3.7.3"
  }
 },
 "nbformat": 4,
 "nbformat_minor": 5
}
