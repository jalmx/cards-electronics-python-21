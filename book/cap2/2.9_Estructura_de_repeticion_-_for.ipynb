{
 "cells": [
  {
   "cell_type": "markdown",
   "id": "special-performance",
   "metadata": {},
   "source": [
    "![banner](../logo/banner.png)"
   ]
  },
  {
   "cell_type": "markdown",
   "id": "wicked-hampshire",
   "metadata": {},
   "source": [
    "# 2.9 Estructura de repetición `for`\n",
    "\n",
    "La siguiente estructura de control se llama `for`. Esta estructura tiene un comportamiento similar a `while`. En esencial hace lo mismo, repite hasta un limite pero este se da distinto. `Foreach`.\n",
    "\n",
    "Sintasix:\n",
    "\n",
    "```python\n",
    "for variable in iterador : \n",
    "    código a ejecutar\n",
    "    código a ejecutar\n",
    "    código a ejecutar\n",
    "    ...\n",
    "```"
   ]
  },
  {
   "cell_type": "markdown",
   "id": "featured-texture",
   "metadata": {},
   "source": [
    "## Funcion `range()`\n",
    "\n",
    "La funcion `range()` retorna un secuencia de numeros, comenzando por default en 0 e incrementando en 1, y se detiene antes del número especificado.\n",
    "\n",
    "**Sintaxis**\n",
    "\n",
    "```python\n",
    "range(start, stop - 1, step)\n",
    "```\n",
    "\n",
    "**Parametros:**\n",
    "\n",
    "- `start`\t(opcional). Un numero entero especificamente para la posicion inicial, por default es 0\n",
    "- `stop`\t(Requerido). Un numero entero que especifica en donde se detendra.\n",
    "- `step`\t(opcional). Un numero entero que especifica el incremento. Por default es 1.\n",
    "\n",
    "Esta función se utiliza con el ciclo `for`"
   ]
  },
  {
   "cell_type": "code",
   "execution_count": 6,
   "id": "radio-anger",
   "metadata": {},
   "outputs": [
    {
     "name": "stdout",
     "output_type": "stream",
     "text": [
      "el valor actual es: \"0\"\n",
      "el valor actual es: \"1\"\n",
      "el valor actual es: \"2\"\n",
      "el valor actual es: \"3\"\n",
      "el valor actual es: \"4\"\n",
      "el valor actual es: \"5\"\n",
      "el valor actual es: \"6\"\n",
      "el valor actual es: \"7\"\n",
      "el valor actual es: \"8\"\n",
      "el valor actual es: \"9\"\n"
     ]
    }
   ],
   "source": [
    "#Vamos a imprimir 10 números, del 0 al 9, recordemos que el número que le pasamos es el tope y ese no se imprime, \n",
    "#y el valor inicial por default es 0, el incremento es de 1 en 1\n",
    "\n",
    "for valor in range(10):\n",
    "    print(f'el valor actual es: \"{valor}\"')\n",
    "    "
   ]
  },
  {
   "cell_type": "code",
   "execution_count": 7,
   "id": "circular-shooting",
   "metadata": {},
   "outputs": [
    {
     "name": "stdout",
     "output_type": "stream",
     "text": [
      "el valor actual es: \"2\"\n",
      "el valor actual es: \"3\"\n",
      "el valor actual es: \"4\"\n",
      "el valor actual es: \"5\"\n",
      "el valor actual es: \"6\"\n",
      "el valor actual es: \"7\"\n",
      "el valor actual es: \"8\"\n",
      "el valor actual es: \"9\"\n",
      "el valor actual es: \"10\"\n",
      "el valor actual es: \"11\"\n"
     ]
    }
   ],
   "source": [
    "# Ahora vamos a imprimir en un rango, entonces se le pasa el inicio y el fin, comenzando en 2 y terminando en 11\n",
    "\n",
    "for valor in range(2,12):\n",
    "    print(f'el valor actual es: \"{valor}\"')"
   ]
  },
  {
   "cell_type": "code",
   "execution_count": 9,
   "id": "static-traffic",
   "metadata": {},
   "outputs": [
    {
     "name": "stdout",
     "output_type": "stream",
     "text": [
      "3\n",
      "5\n",
      "7\n",
      "9\n",
      "11\n",
      "13\n",
      "15\n",
      "17\n",
      "19\n",
      "21\n"
     ]
    }
   ],
   "source": [
    "# Ahora vamos a imprimir en un rango, entonces se le pasa el inicio y el fin, \n",
    "# comenzando en 1 y terminando en 20, de 2 en 2\n",
    "\n",
    "for valor in range(3,22,2):\n",
    "    print(valor)"
   ]
  },
  {
   "cell_type": "markdown",
   "id": "sought-cotton",
   "metadata": {},
   "source": [
    "*Nota: Cuando queramos ya sea comenzar en un numero distinto, o cero con un incremento diferente se tiene que pasar el valor de incremento forzosamente*"
   ]
  },
  {
   "cell_type": "markdown",
   "id": "expired-utility",
   "metadata": {},
   "source": [
    "### Ejemplos\n",
    "\n",
    "**1. Solicitar 3 calificaciones del parcial y calcular el promedio**"
   ]
  },
  {
   "cell_type": "code",
   "execution_count": 11,
   "id": "cheap-liability",
   "metadata": {},
   "outputs": [
    {
     "name": "stdout",
     "output_type": "stream",
     "text": [
      "Dar el parcial 1: 7\n",
      "Dar el parcial 2: 6\n",
      "Dar el parcial 3: 7\n",
      "El promedio es 6.666666666666667\n"
     ]
    }
   ],
   "source": [
    "suma = 0.0\n",
    "\n",
    "for calificacion in range(3):\n",
    "    parcial = float(input(\"Dar el parcial \" + str(calificacion + 1) + \": \"))\n",
    "    suma += parcial\n",
    "    \n",
    "promedio = suma / 3\n",
    "\n",
    "print(\"El promedio es \" + str(promedio))"
   ]
  },
  {
   "cell_type": "markdown",
   "id": "fleet-resistance",
   "metadata": {},
   "source": [
    "**2. Imprimir la tabla del 7 con el formato \"7 x 10 = 70\"**"
   ]
  },
  {
   "cell_type": "code",
   "execution_count": 12,
   "id": "aquatic-artwork",
   "metadata": {},
   "outputs": [
    {
     "name": "stdout",
     "output_type": "stream",
     "text": [
      "7 x 1 = 7\n",
      "7 x 2 = 14\n",
      "7 x 3 = 21\n",
      "7 x 4 = 28\n",
      "7 x 5 = 35\n",
      "7 x 6 = 42\n",
      "7 x 7 = 49\n",
      "7 x 8 = 56\n",
      "7 x 9 = 63\n",
      "7 x 10 = 70\n"
     ]
    }
   ],
   "source": [
    "tabla = 7\n",
    "\n",
    "for contador in range(1,11):\n",
    "    resultado = tabla * contador\n",
    "    print( str(tabla) + \" x \" + str(contador) + \" = \" +  str(resultado) )\n"
   ]
  },
  {
   "cell_type": "markdown",
   "id": "wireless-cancellation",
   "metadata": {},
   "source": [
    "**3. Calcular el promedio, solicitando 3 parciales y al final dar el promedio**"
   ]
  },
  {
   "cell_type": "code",
   "execution_count": 16,
   "id": "original-authentication",
   "metadata": {},
   "outputs": [
    {
     "name": "stdout",
     "output_type": "stream",
     "text": [
      "0\n",
      "1\n",
      "2\n",
      "3\n",
      "4\n",
      "5\n"
     ]
    }
   ],
   "source": [
    "for v in range(10):\n",
    "    print(v)\n",
    "    \n",
    "    if v == 5:\n",
    "        break"
   ]
  },
  {
   "cell_type": "code",
   "execution_count": 23,
   "id": "micro-comment",
   "metadata": {},
   "outputs": [
    {
     "name": "stdout",
     "output_type": "stream",
     "text": [
      "S\n",
      "u\n",
      "p\n",
      "e\n",
      "r\n",
      " \n",
      "m\n",
      "e\n",
      "c\n",
      "a\n",
      "t\n",
      "r\n",
      "o\n",
      "n\n",
      "i\n",
      "c\n",
      "a\n",
      " \n",
      "1\n",
      "0\n",
      "0\n",
      "0\n",
      "%\n"
     ]
    }
   ],
   "source": [
    "mensaje = \"Super mecatronica 1000%\"\n",
    "\n",
    "for i in mensaje:\n",
    "    print(i)"
   ]
  },
  {
   "cell_type": "markdown",
   "id": "neural-louis",
   "metadata": {},
   "source": [
    "**Ejercicio:**\n",
    "\n",
    "1. Recorer un rango del 0 al 10 e indicar cuales son par e impar\n",
    "2. Recorer un rango del 5 al 32 e indicar los que sean multiplos de 5"
   ]
  },
  {
   "cell_type": "markdown",
   "id": "surface-oxford",
   "metadata": {},
   "source": [
    "---\n",
    "Realizado por Docente: [Alejandro Leyva](https://www.alejandro-leyva.com/)\n",
    "\n",
    "[Mecatrónica 85](https://mecatronica85.com/)\n",
    "\n",
    "[fb/mecatronica85](https://www.facebook.com/mecatronica85)"
   ]
  }
 ],
 "metadata": {
  "kernelspec": {
   "display_name": "Python 3",
   "language": "python",
   "name": "python3"
  },
  "language_info": {
   "codemirror_mode": {
    "name": "ipython",
    "version": 3
   },
   "file_extension": ".py",
   "mimetype": "text/x-python",
   "name": "python",
   "nbconvert_exporter": "python",
   "pygments_lexer": "ipython3",
   "version": "3.7.3"
  }
 },
 "nbformat": 4,
 "nbformat_minor": 5
}
